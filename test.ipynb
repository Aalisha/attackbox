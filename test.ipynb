{
 "cells": [
  {
   "cell_type": "code",
   "execution_count": 2,
   "metadata": {},
   "outputs": [],
   "source": [
    "%load_ext autoreload\n",
    "%autoreload 2\n",
    "from CW import CW\n",
    "from FGSM import FGSM\n",
    "from OPT_attack import OPT_attack\n",
    "from models import PytorchModel\n",
    "import torch\n",
    "from allmodels import MNIST, load_model, load_mnist_data"
   ]
  },
  {
   "cell_type": "code",
   "execution_count": 3,
   "metadata": {},
   "outputs": [],
   "source": [
    "net = MNIST()\n",
    "net.cuda()\n",
    "net = torch.nn.DataParallel(net, device_ids=[0])\n",
    "load_model(net,'mnist_gpu.pt')\n",
    "net.eval()\n",
    "model = net.module if torch.cuda.is_available() else net"
   ]
  },
  {
   "cell_type": "code",
   "execution_count": 4,
   "metadata": {},
   "outputs": [],
   "source": [
    "amodel = PytorchModel(model, bounds=[0,1], num_classes=10)\n",
    "attack = CW(amodel)"
   ]
  },
  {
   "cell_type": "code",
   "execution_count": 15,
   "metadata": {},
   "outputs": [],
   "source": [
    "attack = FGSM(amodel)"
   ]
  },
  {
   "cell_type": "code",
   "execution_count": 5,
   "metadata": {},
   "outputs": [],
   "source": [
    "attack = OPT_attack(amodel)"
   ]
  },
  {
   "cell_type": "code",
   "execution_count": 6,
   "metadata": {},
   "outputs": [
    {
     "name": "stdout",
     "output_type": "stream",
     "text": [
      "torch.Size([1, 10])\n"
     ]
    }
   ],
   "source": [
    "train_loader, test_loader, train_dataset, test_dataset = load_mnist_data()\n",
    "for i, (xi,yi) in enumerate(test_loader):\n",
    "    xi_v=torch.autograd.Variable(xi)\n",
    "    res= amodel.predict(xi_v)\n",
    "print(res.size())"
   ]
  },
  {
   "cell_type": "code",
   "execution_count": 21,
   "metadata": {},
   "outputs": [
    {
     "name": "stdout",
     "output_type": "stream",
     "text": [
      "Searching for the initial direction on 100 random directions: \n",
      "--------> Found distortion 8.8980\n",
      "--------> Found distortion 7.7101\n",
      "--------> Found distortion 7.2320\n",
      "--------> Found distortion 6.5564\n",
      "==========> Found best distortion 6.5564 in 0.1702 seconds using 278 queries\n",
      "Iteration  50: g(theta + beta*u) = 2.3161 g(theta) = 2.3159 distortion 2.3159 num_queries 10027\n",
      "Iteration 100: g(theta + beta*u) = 1.8288 g(theta) = 1.8288 distortion 1.8288 num_queries 19596\n",
      "Iteration 150: g(theta + beta*u) = 1.6056 g(theta) = 1.6056 distortion 1.6056 num_queries 28846\n"
     ]
    },
    {
     "ename": "KeyboardInterrupt",
     "evalue": "",
     "output_type": "error",
     "traceback": [
      "\u001b[0;31m---------------------------------------------------------------------------\u001b[0m",
      "\u001b[0;31mKeyboardInterrupt\u001b[0m                         Traceback (most recent call last)",
      "\u001b[0;32m<ipython-input-21-2fe8d7d9394f>\u001b[0m in \u001b[0;36m<module>\u001b[0;34m()\u001b[0m\n\u001b[0;32m----> 1\u001b[0;31m \u001b[0mattack\u001b[0m\u001b[0;34m(\u001b[0m\u001b[0mxi\u001b[0m\u001b[0;34m,\u001b[0m\u001b[0myi\u001b[0m\u001b[0;34m)\u001b[0m\u001b[0;34m\u001b[0m\u001b[0m\n\u001b[0m",
      "\u001b[0;32m~/attackbox/OPT_attack.py\u001b[0m in \u001b[0;36m__call__\u001b[0;34m(self, input_xi, label_or_target, TARGETED)\u001b[0m\n\u001b[1;32m    188\u001b[0m             \u001b[0mprint\u001b[0m\u001b[0;34m(\u001b[0m\u001b[0;34m\"Not Implemented.\"\u001b[0m\u001b[0;34m)\u001b[0m\u001b[0;34m\u001b[0m\u001b[0m\n\u001b[1;32m    189\u001b[0m         \u001b[0;32melse\u001b[0m\u001b[0;34m:\u001b[0m\u001b[0;34m\u001b[0m\u001b[0m\n\u001b[0;32m--> 190\u001b[0;31m             \u001b[0madv\u001b[0m \u001b[0;34m=\u001b[0m \u001b[0mself\u001b[0m\u001b[0;34m.\u001b[0m\u001b[0mattack_untargeted\u001b[0m\u001b[0;34m(\u001b[0m\u001b[0minput_xi\u001b[0m\u001b[0;34m,\u001b[0m \u001b[0mlabel_or_target\u001b[0m\u001b[0;34m)\u001b[0m\u001b[0;34m\u001b[0m\u001b[0m\n\u001b[0m\u001b[1;32m    191\u001b[0m         \u001b[0;32mreturn\u001b[0m \u001b[0madv\u001b[0m\u001b[0;34m\u001b[0m\u001b[0m\n\u001b[1;32m    192\u001b[0m \u001b[0;34m\u001b[0m\u001b[0m\n",
      "\u001b[0;32m~/attackbox/OPT_attack.py\u001b[0m in \u001b[0;36mattack_untargeted\u001b[0;34m(self, x0, y0, alpha, beta, iterations)\u001b[0m\n\u001b[1;32m     70\u001b[0m                 \u001b[0mttt\u001b[0m \u001b[0;34m=\u001b[0m \u001b[0mtheta\u001b[0m\u001b[0;34m+\u001b[0m\u001b[0mbeta\u001b[0m \u001b[0;34m*\u001b[0m \u001b[0mu\u001b[0m\u001b[0;34m\u001b[0m\u001b[0m\n\u001b[1;32m     71\u001b[0m                 \u001b[0mttt\u001b[0m \u001b[0;34m=\u001b[0m \u001b[0mttt\u001b[0m\u001b[0;34m/\u001b[0m\u001b[0mtorch\u001b[0m\u001b[0;34m.\u001b[0m\u001b[0mnorm\u001b[0m\u001b[0;34m(\u001b[0m\u001b[0mttt\u001b[0m\u001b[0;34m)\u001b[0m\u001b[0;34m\u001b[0m\u001b[0m\n\u001b[0;32m---> 72\u001b[0;31m                 \u001b[0mg1\u001b[0m\u001b[0;34m,\u001b[0m \u001b[0mcount\u001b[0m \u001b[0;34m=\u001b[0m \u001b[0mself\u001b[0m\u001b[0;34m.\u001b[0m\u001b[0mfine_grained_binary_search_local\u001b[0m\u001b[0;34m(\u001b[0m\u001b[0mmodel\u001b[0m\u001b[0;34m,\u001b[0m \u001b[0mx0\u001b[0m\u001b[0;34m,\u001b[0m \u001b[0my0\u001b[0m\u001b[0;34m,\u001b[0m \u001b[0mttt\u001b[0m\u001b[0;34m,\u001b[0m \u001b[0minitial_lbd\u001b[0m \u001b[0;34m=\u001b[0m \u001b[0mg2\u001b[0m\u001b[0;34m,\u001b[0m \u001b[0mtol\u001b[0m\u001b[0;34m=\u001b[0m\u001b[0mbeta\u001b[0m\u001b[0;34m/\u001b[0m\u001b[0;36m500\u001b[0m\u001b[0;34m)\u001b[0m\u001b[0;34m\u001b[0m\u001b[0m\n\u001b[0m\u001b[1;32m     73\u001b[0m                 \u001b[0mopt_count\u001b[0m \u001b[0;34m+=\u001b[0m \u001b[0mcount\u001b[0m\u001b[0;34m\u001b[0m\u001b[0m\n\u001b[1;32m     74\u001b[0m                 \u001b[0mgradient\u001b[0m \u001b[0;34m+=\u001b[0m \u001b[0;34m(\u001b[0m\u001b[0mg1\u001b[0m\u001b[0;34m-\u001b[0m\u001b[0mg2\u001b[0m\u001b[0;34m)\u001b[0m\u001b[0;34m/\u001b[0m\u001b[0mbeta\u001b[0m \u001b[0;34m*\u001b[0m \u001b[0mu\u001b[0m\u001b[0;34m\u001b[0m\u001b[0m\n",
      "\u001b[0;32m~/attackbox/OPT_attack.py\u001b[0m in \u001b[0;36mfine_grained_binary_search_local\u001b[0;34m(self, model, x0, y0, theta, initial_lbd, tol)\u001b[0m\n\u001b[1;32m    156\u001b[0m             \u001b[0mlbd_mid\u001b[0m \u001b[0;34m=\u001b[0m \u001b[0;34m(\u001b[0m\u001b[0mlbd_lo\u001b[0m \u001b[0;34m+\u001b[0m \u001b[0mlbd_hi\u001b[0m\u001b[0;34m)\u001b[0m\u001b[0;34m/\u001b[0m\u001b[0;36m2.0\u001b[0m\u001b[0;34m\u001b[0m\u001b[0m\n\u001b[1;32m    157\u001b[0m             \u001b[0mnquery\u001b[0m \u001b[0;34m+=\u001b[0m \u001b[0;36m1\u001b[0m\u001b[0;34m\u001b[0m\u001b[0m\n\u001b[0;32m--> 158\u001b[0;31m             \u001b[0;32mif\u001b[0m \u001b[0mmodel\u001b[0m\u001b[0;34m.\u001b[0m\u001b[0mpredict_label\u001b[0m\u001b[0;34m(\u001b[0m\u001b[0mx0\u001b[0m \u001b[0;34m+\u001b[0m \u001b[0mlbd_mid\u001b[0m\u001b[0;34m*\u001b[0m\u001b[0mtheta\u001b[0m\u001b[0;34m)\u001b[0m \u001b[0;34m!=\u001b[0m \u001b[0my0\u001b[0m\u001b[0;34m:\u001b[0m\u001b[0;34m\u001b[0m\u001b[0m\n\u001b[0m\u001b[1;32m    159\u001b[0m                 \u001b[0mlbd_hi\u001b[0m \u001b[0;34m=\u001b[0m \u001b[0mlbd_mid\u001b[0m\u001b[0;34m\u001b[0m\u001b[0m\n\u001b[1;32m    160\u001b[0m             \u001b[0;32melse\u001b[0m\u001b[0;34m:\u001b[0m\u001b[0;34m\u001b[0m\u001b[0m\n",
      "\u001b[0;32m~/attackbox/models.py\u001b[0m in \u001b[0;36mpredict_label\u001b[0;34m(self, image)\u001b[0m\n\u001b[1;32m     22\u001b[0m             \u001b[0mimage\u001b[0m \u001b[0;34m=\u001b[0m \u001b[0mimage\u001b[0m\u001b[0;34m.\u001b[0m\u001b[0munsqueeze\u001b[0m\u001b[0;34m(\u001b[0m\u001b[0;36m0\u001b[0m\u001b[0;34m)\u001b[0m\u001b[0;34m\u001b[0m\u001b[0m\n\u001b[1;32m     23\u001b[0m         \u001b[0mimage\u001b[0m \u001b[0;34m=\u001b[0m \u001b[0mVariable\u001b[0m\u001b[0;34m(\u001b[0m\u001b[0mimage\u001b[0m\u001b[0;34m,\u001b[0m \u001b[0mvolatile\u001b[0m\u001b[0;34m=\u001b[0m\u001b[0;32mTrue\u001b[0m\u001b[0;34m)\u001b[0m \u001b[0;31m# ?? not supported by latest pytorch\u001b[0m\u001b[0;34m\u001b[0m\u001b[0m\n\u001b[0;32m---> 24\u001b[0;31m         \u001b[0moutput\u001b[0m \u001b[0;34m=\u001b[0m \u001b[0mself\u001b[0m\u001b[0;34m.\u001b[0m\u001b[0mmodel\u001b[0m\u001b[0;34m(\u001b[0m\u001b[0mimage\u001b[0m\u001b[0;34m)\u001b[0m\u001b[0;34m\u001b[0m\u001b[0m\n\u001b[0m\u001b[1;32m     25\u001b[0m         \u001b[0;31m#image = Variable(image, volatile=True) # ?? not supported by latest pytorch\u001b[0m\u001b[0;34m\u001b[0m\u001b[0;34m\u001b[0m\u001b[0m\n\u001b[1;32m     26\u001b[0m         \u001b[0m_\u001b[0m\u001b[0;34m,\u001b[0m \u001b[0mpredict\u001b[0m \u001b[0;34m=\u001b[0m \u001b[0mtorch\u001b[0m\u001b[0;34m.\u001b[0m\u001b[0mmax\u001b[0m\u001b[0;34m(\u001b[0m\u001b[0moutput\u001b[0m\u001b[0;34m.\u001b[0m\u001b[0mdata\u001b[0m\u001b[0;34m,\u001b[0m \u001b[0;36m1\u001b[0m\u001b[0;34m)\u001b[0m\u001b[0;34m\u001b[0m\u001b[0m\n",
      "\u001b[0;32m~/anaconda3/lib/python3.6/site-packages/torch/nn/modules/module.py\u001b[0m in \u001b[0;36m__call__\u001b[0;34m(self, *input, **kwargs)\u001b[0m\n\u001b[1;32m    355\u001b[0m             \u001b[0mresult\u001b[0m \u001b[0;34m=\u001b[0m \u001b[0mself\u001b[0m\u001b[0;34m.\u001b[0m\u001b[0m_slow_forward\u001b[0m\u001b[0;34m(\u001b[0m\u001b[0;34m*\u001b[0m\u001b[0minput\u001b[0m\u001b[0;34m,\u001b[0m \u001b[0;34m**\u001b[0m\u001b[0mkwargs\u001b[0m\u001b[0;34m)\u001b[0m\u001b[0;34m\u001b[0m\u001b[0m\n\u001b[1;32m    356\u001b[0m         \u001b[0;32melse\u001b[0m\u001b[0;34m:\u001b[0m\u001b[0;34m\u001b[0m\u001b[0m\n\u001b[0;32m--> 357\u001b[0;31m             \u001b[0mresult\u001b[0m \u001b[0;34m=\u001b[0m \u001b[0mself\u001b[0m\u001b[0;34m.\u001b[0m\u001b[0mforward\u001b[0m\u001b[0;34m(\u001b[0m\u001b[0;34m*\u001b[0m\u001b[0minput\u001b[0m\u001b[0;34m,\u001b[0m \u001b[0;34m**\u001b[0m\u001b[0mkwargs\u001b[0m\u001b[0;34m)\u001b[0m\u001b[0;34m\u001b[0m\u001b[0m\n\u001b[0m\u001b[1;32m    358\u001b[0m         \u001b[0;32mfor\u001b[0m \u001b[0mhook\u001b[0m \u001b[0;32min\u001b[0m \u001b[0mself\u001b[0m\u001b[0;34m.\u001b[0m\u001b[0m_forward_hooks\u001b[0m\u001b[0;34m.\u001b[0m\u001b[0mvalues\u001b[0m\u001b[0;34m(\u001b[0m\u001b[0;34m)\u001b[0m\u001b[0;34m:\u001b[0m\u001b[0;34m\u001b[0m\u001b[0m\n\u001b[1;32m    359\u001b[0m             \u001b[0mhook_result\u001b[0m \u001b[0;34m=\u001b[0m \u001b[0mhook\u001b[0m\u001b[0;34m(\u001b[0m\u001b[0mself\u001b[0m\u001b[0;34m,\u001b[0m \u001b[0minput\u001b[0m\u001b[0;34m,\u001b[0m \u001b[0mresult\u001b[0m\u001b[0;34m)\u001b[0m\u001b[0;34m\u001b[0m\u001b[0m\n",
      "\u001b[0;32m~/attackbox/allmodels.py\u001b[0m in \u001b[0;36mforward\u001b[0;34m(self, x)\u001b[0m\n\u001b[1;32m    135\u001b[0m \u001b[0;34m\u001b[0m\u001b[0m\n\u001b[1;32m    136\u001b[0m     \u001b[0;32mdef\u001b[0m \u001b[0mforward\u001b[0m\u001b[0;34m(\u001b[0m\u001b[0mself\u001b[0m\u001b[0;34m,\u001b[0m \u001b[0mx\u001b[0m\u001b[0;34m)\u001b[0m\u001b[0;34m:\u001b[0m\u001b[0;34m\u001b[0m\u001b[0m\n\u001b[0;32m--> 137\u001b[0;31m         \u001b[0mout\u001b[0m \u001b[0;34m=\u001b[0m \u001b[0mself\u001b[0m\u001b[0;34m.\u001b[0m\u001b[0mfeatures\u001b[0m\u001b[0;34m(\u001b[0m\u001b[0mx\u001b[0m\u001b[0;34m)\u001b[0m\u001b[0;34m\u001b[0m\u001b[0m\n\u001b[0m\u001b[1;32m    138\u001b[0m         \u001b[0mout\u001b[0m \u001b[0;34m=\u001b[0m \u001b[0mout\u001b[0m\u001b[0;34m.\u001b[0m\u001b[0mview\u001b[0m\u001b[0;34m(\u001b[0m\u001b[0mout\u001b[0m\u001b[0;34m.\u001b[0m\u001b[0msize\u001b[0m\u001b[0;34m(\u001b[0m\u001b[0;36m0\u001b[0m\u001b[0;34m)\u001b[0m\u001b[0;34m,\u001b[0m \u001b[0;34m-\u001b[0m\u001b[0;36m1\u001b[0m\u001b[0;34m)\u001b[0m\u001b[0;34m\u001b[0m\u001b[0m\n\u001b[1;32m    139\u001b[0m         \u001b[0mout\u001b[0m \u001b[0;34m=\u001b[0m \u001b[0mself\u001b[0m\u001b[0;34m.\u001b[0m\u001b[0mfc1\u001b[0m\u001b[0;34m(\u001b[0m\u001b[0mout\u001b[0m\u001b[0;34m)\u001b[0m\u001b[0;34m\u001b[0m\u001b[0m\n",
      "\u001b[0;32m~/anaconda3/lib/python3.6/site-packages/torch/nn/modules/module.py\u001b[0m in \u001b[0;36m__call__\u001b[0;34m(self, *input, **kwargs)\u001b[0m\n\u001b[1;32m    355\u001b[0m             \u001b[0mresult\u001b[0m \u001b[0;34m=\u001b[0m \u001b[0mself\u001b[0m\u001b[0;34m.\u001b[0m\u001b[0m_slow_forward\u001b[0m\u001b[0;34m(\u001b[0m\u001b[0;34m*\u001b[0m\u001b[0minput\u001b[0m\u001b[0;34m,\u001b[0m \u001b[0;34m**\u001b[0m\u001b[0mkwargs\u001b[0m\u001b[0;34m)\u001b[0m\u001b[0;34m\u001b[0m\u001b[0m\n\u001b[1;32m    356\u001b[0m         \u001b[0;32melse\u001b[0m\u001b[0;34m:\u001b[0m\u001b[0;34m\u001b[0m\u001b[0m\n\u001b[0;32m--> 357\u001b[0;31m             \u001b[0mresult\u001b[0m \u001b[0;34m=\u001b[0m \u001b[0mself\u001b[0m\u001b[0;34m.\u001b[0m\u001b[0mforward\u001b[0m\u001b[0;34m(\u001b[0m\u001b[0;34m*\u001b[0m\u001b[0minput\u001b[0m\u001b[0;34m,\u001b[0m \u001b[0;34m**\u001b[0m\u001b[0mkwargs\u001b[0m\u001b[0;34m)\u001b[0m\u001b[0;34m\u001b[0m\u001b[0m\n\u001b[0m\u001b[1;32m    358\u001b[0m         \u001b[0;32mfor\u001b[0m \u001b[0mhook\u001b[0m \u001b[0;32min\u001b[0m \u001b[0mself\u001b[0m\u001b[0;34m.\u001b[0m\u001b[0m_forward_hooks\u001b[0m\u001b[0;34m.\u001b[0m\u001b[0mvalues\u001b[0m\u001b[0;34m(\u001b[0m\u001b[0;34m)\u001b[0m\u001b[0;34m:\u001b[0m\u001b[0;34m\u001b[0m\u001b[0m\n\u001b[1;32m    359\u001b[0m             \u001b[0mhook_result\u001b[0m \u001b[0;34m=\u001b[0m \u001b[0mhook\u001b[0m\u001b[0;34m(\u001b[0m\u001b[0mself\u001b[0m\u001b[0;34m,\u001b[0m \u001b[0minput\u001b[0m\u001b[0;34m,\u001b[0m \u001b[0mresult\u001b[0m\u001b[0;34m)\u001b[0m\u001b[0;34m\u001b[0m\u001b[0m\n",
      "\u001b[0;32m~/anaconda3/lib/python3.6/site-packages/torch/nn/modules/container.py\u001b[0m in \u001b[0;36mforward\u001b[0;34m(self, input)\u001b[0m\n\u001b[1;32m     65\u001b[0m     \u001b[0;32mdef\u001b[0m \u001b[0mforward\u001b[0m\u001b[0;34m(\u001b[0m\u001b[0mself\u001b[0m\u001b[0;34m,\u001b[0m \u001b[0minput\u001b[0m\u001b[0;34m)\u001b[0m\u001b[0;34m:\u001b[0m\u001b[0;34m\u001b[0m\u001b[0m\n\u001b[1;32m     66\u001b[0m         \u001b[0;32mfor\u001b[0m \u001b[0mmodule\u001b[0m \u001b[0;32min\u001b[0m \u001b[0mself\u001b[0m\u001b[0;34m.\u001b[0m\u001b[0m_modules\u001b[0m\u001b[0;34m.\u001b[0m\u001b[0mvalues\u001b[0m\u001b[0;34m(\u001b[0m\u001b[0;34m)\u001b[0m\u001b[0;34m:\u001b[0m\u001b[0;34m\u001b[0m\u001b[0m\n\u001b[0;32m---> 67\u001b[0;31m             \u001b[0minput\u001b[0m \u001b[0;34m=\u001b[0m \u001b[0mmodule\u001b[0m\u001b[0;34m(\u001b[0m\u001b[0minput\u001b[0m\u001b[0;34m)\u001b[0m\u001b[0;34m\u001b[0m\u001b[0m\n\u001b[0m\u001b[1;32m     68\u001b[0m         \u001b[0;32mreturn\u001b[0m \u001b[0minput\u001b[0m\u001b[0;34m\u001b[0m\u001b[0m\n\u001b[1;32m     69\u001b[0m \u001b[0;34m\u001b[0m\u001b[0m\n",
      "\u001b[0;32m~/anaconda3/lib/python3.6/site-packages/torch/nn/modules/module.py\u001b[0m in \u001b[0;36m__call__\u001b[0;34m(self, *input, **kwargs)\u001b[0m\n\u001b[1;32m    355\u001b[0m             \u001b[0mresult\u001b[0m \u001b[0;34m=\u001b[0m \u001b[0mself\u001b[0m\u001b[0;34m.\u001b[0m\u001b[0m_slow_forward\u001b[0m\u001b[0;34m(\u001b[0m\u001b[0;34m*\u001b[0m\u001b[0minput\u001b[0m\u001b[0;34m,\u001b[0m \u001b[0;34m**\u001b[0m\u001b[0mkwargs\u001b[0m\u001b[0;34m)\u001b[0m\u001b[0;34m\u001b[0m\u001b[0m\n\u001b[1;32m    356\u001b[0m         \u001b[0;32melse\u001b[0m\u001b[0;34m:\u001b[0m\u001b[0;34m\u001b[0m\u001b[0m\n\u001b[0;32m--> 357\u001b[0;31m             \u001b[0mresult\u001b[0m \u001b[0;34m=\u001b[0m \u001b[0mself\u001b[0m\u001b[0;34m.\u001b[0m\u001b[0mforward\u001b[0m\u001b[0;34m(\u001b[0m\u001b[0;34m*\u001b[0m\u001b[0minput\u001b[0m\u001b[0;34m,\u001b[0m \u001b[0;34m**\u001b[0m\u001b[0mkwargs\u001b[0m\u001b[0;34m)\u001b[0m\u001b[0;34m\u001b[0m\u001b[0m\n\u001b[0m\u001b[1;32m    358\u001b[0m         \u001b[0;32mfor\u001b[0m \u001b[0mhook\u001b[0m \u001b[0;32min\u001b[0m \u001b[0mself\u001b[0m\u001b[0;34m.\u001b[0m\u001b[0m_forward_hooks\u001b[0m\u001b[0;34m.\u001b[0m\u001b[0mvalues\u001b[0m\u001b[0;34m(\u001b[0m\u001b[0;34m)\u001b[0m\u001b[0;34m:\u001b[0m\u001b[0;34m\u001b[0m\u001b[0m\n\u001b[1;32m    359\u001b[0m             \u001b[0mhook_result\u001b[0m \u001b[0;34m=\u001b[0m \u001b[0mhook\u001b[0m\u001b[0;34m(\u001b[0m\u001b[0mself\u001b[0m\u001b[0;34m,\u001b[0m \u001b[0minput\u001b[0m\u001b[0;34m,\u001b[0m \u001b[0mresult\u001b[0m\u001b[0;34m)\u001b[0m\u001b[0;34m\u001b[0m\u001b[0m\n",
      "\u001b[0;32m~/anaconda3/lib/python3.6/site-packages/torch/nn/modules/batchnorm.py\u001b[0m in \u001b[0;36mforward\u001b[0;34m(self, input)\u001b[0m\n\u001b[1;32m     35\u001b[0m         return F.batch_norm(\n\u001b[1;32m     36\u001b[0m             \u001b[0minput\u001b[0m\u001b[0;34m,\u001b[0m \u001b[0mself\u001b[0m\u001b[0;34m.\u001b[0m\u001b[0mrunning_mean\u001b[0m\u001b[0;34m,\u001b[0m \u001b[0mself\u001b[0m\u001b[0;34m.\u001b[0m\u001b[0mrunning_var\u001b[0m\u001b[0;34m,\u001b[0m \u001b[0mself\u001b[0m\u001b[0;34m.\u001b[0m\u001b[0mweight\u001b[0m\u001b[0;34m,\u001b[0m \u001b[0mself\u001b[0m\u001b[0;34m.\u001b[0m\u001b[0mbias\u001b[0m\u001b[0;34m,\u001b[0m\u001b[0;34m\u001b[0m\u001b[0m\n\u001b[0;32m---> 37\u001b[0;31m             self.training, self.momentum, self.eps)\n\u001b[0m\u001b[1;32m     38\u001b[0m \u001b[0;34m\u001b[0m\u001b[0m\n\u001b[1;32m     39\u001b[0m     \u001b[0;32mdef\u001b[0m \u001b[0m__repr__\u001b[0m\u001b[0;34m(\u001b[0m\u001b[0mself\u001b[0m\u001b[0;34m)\u001b[0m\u001b[0;34m:\u001b[0m\u001b[0;34m\u001b[0m\u001b[0m\n",
      "\u001b[0;32m~/anaconda3/lib/python3.6/site-packages/torch/nn/functional.py\u001b[0m in \u001b[0;36mbatch_norm\u001b[0;34m(input, running_mean, running_var, weight, bias, training, momentum, eps)\u001b[0m\n\u001b[1;32m   1011\u001b[0m             \u001b[0;32mraise\u001b[0m \u001b[0mValueError\u001b[0m\u001b[0;34m(\u001b[0m\u001b[0;34m'Expected more than 1 value per channel when training, got input size {}'\u001b[0m\u001b[0;34m.\u001b[0m\u001b[0mformat\u001b[0m\u001b[0;34m(\u001b[0m\u001b[0msize\u001b[0m\u001b[0;34m)\u001b[0m\u001b[0;34m)\u001b[0m\u001b[0;34m\u001b[0m\u001b[0m\n\u001b[1;32m   1012\u001b[0m     \u001b[0mf\u001b[0m \u001b[0;34m=\u001b[0m \u001b[0mtorch\u001b[0m\u001b[0;34m.\u001b[0m\u001b[0m_C\u001b[0m\u001b[0;34m.\u001b[0m\u001b[0m_functions\u001b[0m\u001b[0;34m.\u001b[0m\u001b[0mBatchNorm\u001b[0m\u001b[0;34m(\u001b[0m\u001b[0mrunning_mean\u001b[0m\u001b[0;34m,\u001b[0m \u001b[0mrunning_var\u001b[0m\u001b[0;34m,\u001b[0m \u001b[0mtraining\u001b[0m\u001b[0;34m,\u001b[0m \u001b[0mmomentum\u001b[0m\u001b[0;34m,\u001b[0m \u001b[0meps\u001b[0m\u001b[0;34m,\u001b[0m \u001b[0mtorch\u001b[0m\u001b[0;34m.\u001b[0m\u001b[0mbackends\u001b[0m\u001b[0;34m.\u001b[0m\u001b[0mcudnn\u001b[0m\u001b[0;34m.\u001b[0m\u001b[0menabled\u001b[0m\u001b[0;34m)\u001b[0m\u001b[0;34m\u001b[0m\u001b[0m\n\u001b[0;32m-> 1013\u001b[0;31m     \u001b[0;32mreturn\u001b[0m \u001b[0mf\u001b[0m\u001b[0;34m(\u001b[0m\u001b[0minput\u001b[0m\u001b[0;34m,\u001b[0m \u001b[0mweight\u001b[0m\u001b[0;34m,\u001b[0m \u001b[0mbias\u001b[0m\u001b[0;34m)\u001b[0m\u001b[0;34m\u001b[0m\u001b[0m\n\u001b[0m\u001b[1;32m   1014\u001b[0m \u001b[0;34m\u001b[0m\u001b[0m\n\u001b[1;32m   1015\u001b[0m \u001b[0;34m\u001b[0m\u001b[0m\n",
      "\u001b[0;31mKeyboardInterrupt\u001b[0m: "
     ]
    }
   ],
   "source": [
    "attack(xi,yi)"
   ]
  },
  {
   "cell_type": "code",
   "execution_count": 43,
   "metadata": {},
   "outputs": [
    {
     "name": "stdout",
     "output_type": "stream",
     "text": [
      "26.483409881591797\n",
      "24.249975204467773\n",
      "22.243743896484375\n",
      "20.239730834960938\n",
      "18.183658599853516\n",
      "16.10541534423828\n",
      "13.993388175964355\n",
      "12.037900924682617\n",
      "10.192642211914062\n",
      "8.390464782714844\n"
     ]
    },
    {
     "data": {
      "text/plain": [
       "Variable containing:\n",
       "(0 ,0 ,.,.) = \n",
       "\n",
       "Columns 0 to 8 \n",
       "  -0.0100 -0.0100 -0.0100  0.0000 -0.0100 -0.0100 -0.0100  0.0800 -0.0100\n",
       "  0.0600  0.0200  0.0600  0.0400  0.1000  0.1000 -0.0100 -0.0100 -0.0100\n",
       "  0.0400  0.0800  0.1000  0.0800  0.1000 -0.0100  0.1000  0.0400 -0.0100\n",
       " -0.0100 -0.0100  0.0800 -0.0100  0.0000  0.0000  0.0600  0.0400 -0.0100\n",
       " -0.0100 -0.0100 -0.0100 -0.0100 -0.0100  0.0800 -0.0100 -0.0100  0.1000\n",
       "  0.0400  0.0600 -0.0100 -0.0100 -0.0100  0.0600 -0.0100 -0.0100 -0.0100\n",
       " -0.0100 -0.0100 -0.0100 -0.0100 -0.0100 -0.0100 -0.0100 -0.0100 -0.0100\n",
       " -0.0100  0.0200  0.0400 -0.0100 -0.0100 -0.0100 -0.0100 -0.0100  0.1000\n",
       " -0.0100 -0.0100 -0.0100 -0.0100 -0.0100 -0.0100 -0.0100 -0.0100 -0.0100\n",
       " -0.0100 -0.0100 -0.0100 -0.0100  0.0400 -0.0100 -0.0100 -0.0100 -0.0100\n",
       " -0.0100 -0.0100 -0.0100 -0.0100 -0.0100 -0.0100 -0.0100  0.0800  0.1000\n",
       " -0.0100 -0.0100 -0.0100 -0.0100 -0.0100 -0.0100  0.1000  0.1000  0.4918\n",
       " -0.0100 -0.0100 -0.0100 -0.0100 -0.0100 -0.0100 -0.0100  0.3125  0.9161\n",
       " -0.0100 -0.0100 -0.0100 -0.0100 -0.0100 -0.0100 -0.0100  0.3196  1.0022\n",
       " -0.0100  0.0800 -0.0100 -0.0100 -0.0100 -0.0100  0.1894  0.9310  1.0022\n",
       "  0.0400  0.0200 -0.0100 -0.0100 -0.0100 -0.0082  0.6510  1.0022  0.9122\n",
       "  0.1000  0.0400  0.0200 -0.0100 -0.0100  0.1392  0.9102  0.9722  0.8922\n",
       " -0.0100 -0.0100 -0.0100  0.1000 -0.0100  0.1392  0.8741  1.0022  0.8922\n",
       " -0.0100 -0.0100 -0.0100 -0.0100 -0.0100  0.1510  1.0022  1.0022  1.0022\n",
       " -0.0100 -0.0100 -0.0100 -0.0100 -0.0100  0.0878  0.5510  0.9322  1.0022\n",
       " -0.0100  0.0200 -0.0100 -0.0100  0.0400 -0.0100  0.1118  0.7110  1.0022\n",
       "  0.0600 -0.0100 -0.0100 -0.0100 -0.0100 -0.0100 -0.0100 -0.0025  0.0373\n",
       "  0.0600  0.0400  0.1000  0.0400 -0.0100 -0.0100 -0.0100 -0.0100 -0.0100\n",
       "  0.0800 -0.0100  0.1000  0.1000 -0.0100  0.0600 -0.0100 -0.0100  0.1000\n",
       " -0.0100 -0.0100 -0.0100  0.1000  0.1000  0.0800  0.0000  0.0400  0.1000\n",
       " -0.0100 -0.0100 -0.0100  0.0800  0.0800  0.0800  0.0400  0.1000  0.0800\n",
       " -0.0100 -0.0100 -0.0100 -0.0100 -0.0100 -0.0100 -0.0100 -0.0100 -0.0100\n",
       " -0.0100 -0.0100 -0.0100 -0.0100 -0.0100 -0.0100 -0.0100 -0.0100 -0.0100\n",
       "\n",
       "Columns 9 to 17 \n",
       "  -0.0100  0.0600  0.0600 -0.0100 -0.0100 -0.0100 -0.0100 -0.0100 -0.0100\n",
       " -0.0100 -0.0100 -0.0100 -0.0100 -0.0100 -0.0100  0.1000  0.0600  0.0800\n",
       " -0.0100 -0.0100 -0.0100 -0.0100 -0.0100 -0.0100  0.1000  0.1000  0.0514\n",
       "  0.1000  0.1000  0.1000 -0.0100 -0.0100 -0.0100 -0.0090  0.2725  0.7914\n",
       " -0.0100 -0.0100  0.1000  0.1000 -0.0073  0.4725  0.8196  1.0022  0.8922\n",
       "  0.0600  0.0600  0.0569  0.4765  0.8878  1.0022  1.0061  0.9322  0.9522\n",
       "  0.2725  0.8137  1.0012  1.0022  1.0022  0.8922  0.8961  0.9122  0.7165\n",
       " -0.0012  0.3153  0.3353  0.6388  1.0022  0.8922  1.0061  0.6843  0.1902\n",
       " -0.0100 -0.0100  0.1745  0.8686  0.9922  1.0022  1.0008  0.1824  0.1000\n",
       "  0.1000  0.2941  0.7118  0.8922  1.0022  0.9118  0.2608 -0.0100  0.0800\n",
       "  0.2298  0.7788  1.0022  1.0022  1.0022  0.4812 -0.0100  0.1000  0.1000\n",
       "  1.0004  1.0022  0.8922  1.0022  0.0333 -0.0061  0.1000  0.1000  0.1000\n",
       "  1.0061  1.0061  1.0061  0.3886 -0.0100 -0.0100  0.1000  0.1000  0.0800\n",
       "  1.0022  1.0022  0.9000  0.1588 -0.0100  0.0600  0.1000  0.1000  0.0824\n",
       "  1.0022  0.4776  0.1510 -0.0100 -0.0100  0.1706  0.1086  0.5157  0.5706\n",
       "  1.0090  0.1322 -0.0033  0.0922  0.6996  0.8235  0.8961  0.8922  0.8922\n",
       "  0.7318 -0.0012  0.6745  0.9322  1.0022  0.8922  1.0061  0.9686  0.8882\n",
       "  0.8184  0.3212  0.8490  1.0022  1.0022  0.7416  0.3353  0.2718 -0.0047\n",
       "  1.0022  1.0059  1.0022  0.8922  0.8922  0.4047  0.2373  0.2373  0.4373\n",
       "  1.0022  0.9322  0.9122  1.0022  0.9522  1.0022  1.0061  1.0022  1.0022\n",
       "  0.8922  0.8922  0.9122  1.0022  1.0022  1.0022  0.8961  0.8922  0.8922\n",
       "  0.4176  0.7824  1.0022  0.9322  0.9722  0.6647  0.4176  0.5576  0.4176\n",
       "  0.1000  0.1000  0.1000  0.1000  0.0800  0.0600  0.0800  0.1000  0.1000\n",
       "  0.1000  0.1000  0.1000  0.1000  0.1000  0.1000  0.1000 -0.0100  0.1000\n",
       "  0.1000 -0.0100 -0.0100  0.1000  0.1000  0.1000  0.1000 -0.0100  0.1000\n",
       "  0.1000  0.1000  0.0400  0.1000  0.1000  0.0800  0.1000  0.0200  0.1000\n",
       " -0.0100 -0.0100 -0.0100 -0.0100 -0.0100 -0.0100 -0.0100 -0.0100 -0.0100\n",
       " -0.0100 -0.0100 -0.0100 -0.0100 -0.0100 -0.0100 -0.0100 -0.0100 -0.0100\n",
       "\n",
       "Columns 18 to 26 \n",
       "  -0.0100 -0.0100 -0.0100 -0.0100 -0.0100 -0.0100 -0.0100  0.1000 -0.0100\n",
       " -0.0100 -0.0100 -0.0100 -0.0100  0.1000  0.1000 -0.0100 -0.0100 -0.0100\n",
       "  0.5388  0.8961  0.7627  0.2490 -0.0100  0.1000 -0.0100 -0.0100  0.0800\n",
       "  0.8922  0.8922  0.8922  0.7157  0.1000  0.1000 -0.0100 -0.0100 -0.0100\n",
       "  1.0022  0.9008  0.4502  0.1706  0.1000  0.1000  0.0800  0.0800 -0.0100\n",
       "  0.6765  0.1710 -0.0100 -0.0100  0.1000 -0.0100 -0.0100 -0.0100 -0.0100\n",
       "  0.1741  0.1000  0.1000 -0.0100  0.1000  0.1000 -0.0100 -0.0100 -0.0100\n",
       "  0.1000 -0.0100  0.0800  0.1000  0.1000  0.0600  0.0800 -0.0100 -0.0100\n",
       " -0.0100  0.1000  0.1000  0.1000  0.1000 -0.0100  0.1000  0.0600  0.1000\n",
       " -0.0100  0.1000  0.1000  0.1000  0.1000  0.1000  0.1000  0.1000  0.1000\n",
       "  0.1000  0.1000  0.1000  0.1000  0.1000  0.1000  0.1000  0.0800  0.1000\n",
       "  0.1000  0.1000  0.1000  0.1000 -0.0100  0.0600  0.1000  0.1000 -0.0100\n",
       "  0.1118  0.1510  0.1510  0.1110 -0.0086 -0.0100 -0.0100  0.1000 -0.0100\n",
       "  0.7510  0.8922  0.8922  0.9322  0.9114  0.1980  0.0800  0.0800 -0.0100\n",
       "  0.8922  0.9722  1.0022  0.8922  0.8922  0.5275  0.1078 -0.0100 -0.0100\n",
       "  0.9122  1.0022  1.0022  1.0022  0.9322  0.8922  0.1231 -0.0100 -0.0100\n",
       "  0.8922  0.8035  0.9235  1.0022  1.0022  0.5863 -0.0043 -0.0100  0.0600\n",
       "  0.3353  0.2373  0.8137  1.0022  0.9522  0.1039 -0.0100 -0.0100 -0.0100\n",
       "  0.5275  0.9510  0.8922  0.8922  0.4855 -0.0004 -0.0100  0.0400 -0.0100\n",
       "  0.8922  0.8922  0.8922  0.6055 -0.0004 -0.0100  0.0200  0.0600 -0.0100\n",
       "  1.0022  0.7863  0.3039  0.1196  0.1000 -0.0100  0.1000 -0.0100 -0.0100\n",
       "  0.5314  0.1157 -0.0100 -0.0100 -0.0100 -0.0100 -0.0100 -0.0100 -0.0100\n",
       "  0.0600 -0.0100  0.0600  0.1000  0.1000  0.1000 -0.0100 -0.0100 -0.0100\n",
       " -0.0100 -0.0100 -0.0100  0.1000 -0.0100  0.1000  0.0000 -0.0100 -0.0100\n",
       "  0.0800  0.0200 -0.0100 -0.0100 -0.0100  0.0200 -0.0100 -0.0100 -0.0100\n",
       "  0.0200  0.1000 -0.0100  0.0400  0.0800 -0.0100 -0.0100 -0.0100  0.0000\n",
       " -0.0100 -0.0100 -0.0100 -0.0100  0.0800  0.1000 -0.0100  0.0000 -0.0100\n",
       "  0.0100 -0.0100 -0.0100  0.0100 -0.0100  0.0300  0.0700  0.0500 -0.0100\n",
       "\n",
       "Columns 27 to 27 \n",
       "  -0.0100\n",
       " -0.0100\n",
       " -0.0100\n",
       " -0.0100\n",
       "  0.0700\n",
       " -0.0100\n",
       "  0.0900\n",
       "  0.0700\n",
       " -0.0100\n",
       "  0.1000\n",
       " -0.0100\n",
       " -0.0100\n",
       "  0.0800\n",
       "  0.0600\n",
       " -0.0100\n",
       " -0.0100\n",
       " -0.0100\n",
       " -0.0100\n",
       " -0.0100\n",
       " -0.0100\n",
       " -0.0100\n",
       "  0.1000\n",
       " -0.0100\n",
       " -0.0100\n",
       " -0.0100\n",
       " -0.0100\n",
       " -0.0100\n",
       " -0.0100\n",
       "[torch.cuda.FloatTensor of size 1x1x28x28 (GPU 0)]"
      ]
     },
     "execution_count": 43,
     "metadata": {},
     "output_type": "execute_result"
    }
   ],
   "source": [
    "from torch.autograd import Variable\n",
    "target = torch.LongTensor(1).random_(10)\n",
    "attack(xi,target,TARGETED=True)"
   ]
  },
  {
   "cell_type": "code",
   "execution_count": null,
   "metadata": {},
   "outputs": [],
   "source": []
  }
 ],
 "metadata": {
  "kernelspec": {
   "display_name": "Python 3",
   "language": "python",
   "name": "python3"
  },
  "language_info": {
   "codemirror_mode": {
    "name": "ipython",
    "version": 3
   },
   "file_extension": ".py",
   "mimetype": "text/x-python",
   "name": "python",
   "nbconvert_exporter": "python",
   "pygments_lexer": "ipython3",
   "version": "3.6.4"
  }
 },
 "nbformat": 4,
 "nbformat_minor": 2
}
