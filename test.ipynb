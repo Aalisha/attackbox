{
 "cells": [
  {
   "cell_type": "code",
   "execution_count": 1,
   "metadata": {},
   "outputs": [],
   "source": [
    "%load_ext autoreload\n",
    "%autoreload 2\n",
    "from CW import CW\n",
    "from FGSM import FGSM\n",
    "from OPT_attack import OPT_attack\n",
    "from OPT_genattack import OPT_genattack\n",
    "from ZOO import ZOO\n",
    "from models import PytorchModel\n",
    "import torch\n",
    "from allmodels import MNIST, load_model, load_mnist_data, load_cifar10_data, CIFAR10\n",
    "import os\n",
    "os.environ['CUDA_VISIBLE_DEVICES'] = '5'"
   ]
  },
  {
   "cell_type": "code",
   "execution_count": 2,
   "metadata": {},
   "outputs": [],
   "source": [
    "net = MNIST()\n",
    "net.cuda()\n",
    "net = torch.nn.DataParallel(net, device_ids=[0])\n",
    "load_model(net,'mnist_gpu.pt')\n",
    "net.eval()\n",
    "model = net.module if torch.cuda.is_available() else net"
   ]
  },
  {
   "cell_type": "code",
   "execution_count": 3,
   "metadata": {},
   "outputs": [],
   "source": [
    "amodel = PytorchModel(model, bounds=[0,1], num_classes=10)\n",
    "attack = CW(amodel)"
   ]
  },
  {
   "cell_type": "code",
   "execution_count": null,
   "metadata": {},
   "outputs": [],
   "source": [
    "attack = FGSM(amodel)"
   ]
  },
  {
   "cell_type": "code",
   "execution_count": null,
   "metadata": {},
   "outputs": [],
   "source": [
    "attack = OPT_attack(amodel)"
   ]
  },
  {
   "cell_type": "code",
   "execution_count": null,
   "metadata": {},
   "outputs": [],
   "source": [
    "attack = OPT_genattack(amodel)"
   ]
  },
  {
   "cell_type": "code",
   "execution_count": 4,
   "metadata": {},
   "outputs": [],
   "source": [
    "attack = ZOO(amodel)"
   ]
  },
  {
   "cell_type": "code",
   "execution_count": 5,
   "metadata": {},
   "outputs": [],
   "source": [
    "train_loader, test_loader, train_dataset, test_dataset = load_mnist_data()\n",
    "for i, (xi,yi) in enumerate(test_loader):\n",
    "    if i==1:\n",
    "        break\n",
    "    #xi_v=torch.autograd.Variable(xi)\n",
    "    #print(xi.size())\n",
    "    #res= amodel.predict(xi)\n",
    "    #_,label=torch.max(res,1)\n",
    "    #print(label)\n",
    "#print(res.size())"
   ]
  },
  {
   "cell_type": "code",
   "execution_count": 9,
   "metadata": {},
   "outputs": [
    {
     "name": "stdout",
     "output_type": "stream",
     "text": [
      "26.693628311157227 0.0 26.693628311157227\n",
      "26.21864128112793 3.220593924879722e-08 26.21864128112793\n",
      "25.42763328552246 8.552288477403636e-08 25.42763328552246\n",
      "24.496135711669922 9.179401416758992e-08 24.496135711669922\n",
      "23.294424057006836 4.5905967915871315e-09 23.294424057006836\n",
      "22.42807960510254 5.786674250884971e-08 22.42807960510254\n",
      "20.79254150390625 1.108426772589155e-06 20.792539596557617\n",
      "19.1235294342041 2.5742863840605423e-08 19.1235294342041\n",
      "17.889942169189453 2.4088260275334505e-08 17.889942169189453\n",
      "16.84569549560547 4.0981802840178716e-08 16.84569549560547\n",
      "15.98200798034668 4.845671952580233e-08 15.98200798034668\n",
      "14.947929382324219 6.968761678827207e-10 14.947929382324219\n",
      "13.801546096801758 5.6355635713600805e-09 13.801546096801758\n",
      "13.093856811523438 5.261470050754724e-07 13.093855857849121\n",
      "12.482667922973633 6.49138698349816e-08 12.482667922973633\n",
      "11.934165954589844 1.313876509811962e-07 11.934165954589844\n",
      "11.36858081817627 1.9959182395723474e-07 11.36858081817627\n",
      "10.786036491394043 8.119230443526249e-08 10.786036491394043\n",
      "10.27932357788086 2.633150302244758e-07 10.27932357788086\n",
      "9.826212882995605 1.229832236049333e-07 9.826212882995605\n",
      "9.422323226928711 3.478288324032519e-09 9.422323226928711\n",
      "8.998868942260742 1.0509280078119243e-12 8.998868942260742\n",
      "8.586851119995117 5.828865834445196e-09 8.586851119995117\n",
      "8.20801067352295 9.740672712865717e-10 8.20801067352295\n",
      "7.790843963623047 4.988084167933948e-09 7.790843963623047\n",
      "7.202028274536133 9.368923059582812e-08 7.202028274536133\n",
      "6.36935567855835 1.1657722609470511e-07 6.36935567855835\n",
      "5.491812229156494 2.7487860165820166e-07 5.491811752319336\n",
      "4.698112964630127 6.460840040745097e-07 4.698112487792969\n",
      "3.844674587249756 5.384067094382772e-07 3.8446741104125977\n",
      "2.981008529663086 7.094313048128242e-08 2.981008529663086\n",
      "1.8403034210205078 4.238127626621235e-09 1.8403034210205078\n",
      "0.9838290214538574 3.3467145721388647e-10 0.9838290214538574\n",
      "0.2707926332950592 1.4076026388920582e-07 0.27079248428344727\n",
      "2.799999698765987e-08 2.799999698765987e-08 0.0\n",
      "2.799999698765987e-08 2.799999698765987e-08 0.0\n",
      "2.799999698765987e-08 2.799999698765987e-08 0.0\n",
      "2.799999698765987e-08 2.799999698765987e-08 0.0\n"
     ]
    },
    {
     "ename": "KeyboardInterrupt",
     "evalue": "",
     "output_type": "error",
     "traceback": [
      "\u001b[0;31m---------------------------------------------------------------------------\u001b[0m",
      "\u001b[0;31mKeyboardInterrupt\u001b[0m                         Traceback (most recent call last)",
      "\u001b[0;32m<ipython-input-9-2fe8d7d9394f>\u001b[0m in \u001b[0;36m<module>\u001b[0;34m()\u001b[0m\n\u001b[0;32m----> 1\u001b[0;31m \u001b[0mattack\u001b[0m\u001b[0;34m(\u001b[0m\u001b[0mxi\u001b[0m\u001b[0;34m,\u001b[0m\u001b[0myi\u001b[0m\u001b[0;34m)\u001b[0m\u001b[0;34m\u001b[0m\u001b[0m\n\u001b[0m",
      "\u001b[0;32m~/attackbox/ZOO.py\u001b[0m in \u001b[0;36m__call__\u001b[0;34m(self, input_xi, label_or_target, c, TARGETED)\u001b[0m\n\u001b[1;32m     62\u001b[0m \u001b[0;34m\u001b[0m\u001b[0m\n\u001b[1;32m     63\u001b[0m     \u001b[0;32mdef\u001b[0m \u001b[0m__call__\u001b[0m\u001b[0;34m(\u001b[0m\u001b[0mself\u001b[0m\u001b[0;34m,\u001b[0m \u001b[0minput_xi\u001b[0m\u001b[0;34m,\u001b[0m \u001b[0mlabel_or_target\u001b[0m\u001b[0;34m,\u001b[0m \u001b[0mc\u001b[0m\u001b[0;34m=\u001b[0m\u001b[0;36m0.1\u001b[0m\u001b[0;34m,\u001b[0m \u001b[0mTARGETED\u001b[0m\u001b[0;34m=\u001b[0m\u001b[0;32mFalse\u001b[0m\u001b[0;34m)\u001b[0m\u001b[0;34m:\u001b[0m\u001b[0;34m\u001b[0m\u001b[0m\n\u001b[0;32m---> 64\u001b[0;31m         \u001b[0madv\u001b[0m \u001b[0;34m=\u001b[0m \u001b[0mself\u001b[0m\u001b[0;34m.\u001b[0m\u001b[0mzoo\u001b[0m\u001b[0;34m(\u001b[0m\u001b[0minput_xi\u001b[0m\u001b[0;34m,\u001b[0m \u001b[0mlabel_or_target\u001b[0m\u001b[0;34m,\u001b[0m \u001b[0mc\u001b[0m\u001b[0;34m,\u001b[0m \u001b[0mTARGETED\u001b[0m\u001b[0;34m)\u001b[0m\u001b[0;34m\u001b[0m\u001b[0m\n\u001b[0m\u001b[1;32m     65\u001b[0m         \u001b[0;32mreturn\u001b[0m \u001b[0madv\u001b[0m\u001b[0;34m\u001b[0m\u001b[0m\n\u001b[1;32m     66\u001b[0m \u001b[0;34m\u001b[0m\u001b[0m\n",
      "\u001b[0;32m~/attackbox/ZOO.py\u001b[0m in \u001b[0;36mzoo\u001b[0;34m(self, input_xi, label_or_target, c, TARGETED)\u001b[0m\n\u001b[1;32m     40\u001b[0m         \u001b[0;32mfor\u001b[0m \u001b[0mit\u001b[0m \u001b[0;32min\u001b[0m \u001b[0mrange\u001b[0m\u001b[0;34m(\u001b[0m\u001b[0;36m50000\u001b[0m\u001b[0;34m)\u001b[0m\u001b[0;34m:\u001b[0m\u001b[0;34m\u001b[0m\u001b[0m\n\u001b[1;32m     41\u001b[0m             \u001b[0;31m#optimizer.zero_grad()\u001b[0m\u001b[0;34m\u001b[0m\u001b[0;34m\u001b[0m\u001b[0m\n\u001b[0;32m---> 42\u001b[0;31m             \u001b[0merror1\u001b[0m\u001b[0;34m,\u001b[0m\u001b[0mloss11\u001b[0m\u001b[0;34m,\u001b[0m\u001b[0mloss12\u001b[0m \u001b[0;34m=\u001b[0m \u001b[0mself\u001b[0m\u001b[0;34m.\u001b[0m\u001b[0mget_loss\u001b[0m\u001b[0;34m(\u001b[0m\u001b[0mxi\u001b[0m\u001b[0;34m,\u001b[0m\u001b[0mlabel_onehot_v\u001b[0m\u001b[0;34m,\u001b[0m\u001b[0mc\u001b[0m\u001b[0;34m,\u001b[0m\u001b[0mmodifier\u001b[0m\u001b[0;34m,\u001b[0m \u001b[0mTARGETED\u001b[0m\u001b[0;34m)\u001b[0m\u001b[0;34m\u001b[0m\u001b[0m\n\u001b[0m\u001b[1;32m     43\u001b[0m             \u001b[0;32mfor\u001b[0m \u001b[0mj\u001b[0m \u001b[0;32min\u001b[0m \u001b[0mrange\u001b[0m\u001b[0;34m(\u001b[0m\u001b[0mnum_coor\u001b[0m\u001b[0;34m)\u001b[0m\u001b[0;34m:\u001b[0m\u001b[0;34m\u001b[0m\u001b[0m\n\u001b[1;32m     44\u001b[0m                 \u001b[0mmodifier\u001b[0m \u001b[0;34m=\u001b[0m \u001b[0mVariable\u001b[0m\u001b[0;34m(\u001b[0m\u001b[0mtorch\u001b[0m\u001b[0;34m.\u001b[0m\u001b[0mzeros\u001b[0m\u001b[0;34m(\u001b[0m\u001b[0mxi\u001b[0m\u001b[0;34m.\u001b[0m\u001b[0msize\u001b[0m\u001b[0;34m(\u001b[0m\u001b[0;34m)\u001b[0m\u001b[0;34m)\u001b[0m\u001b[0;34m.\u001b[0m\u001b[0mcuda\u001b[0m\u001b[0;34m(\u001b[0m\u001b[0;34m)\u001b[0m\u001b[0;34m,\u001b[0m \u001b[0mvolatile\u001b[0m\u001b[0;34m=\u001b[0m\u001b[0;32mTrue\u001b[0m\u001b[0;34m)\u001b[0m\u001b[0;34m\u001b[0m\u001b[0m\n",
      "\u001b[0;32m~/attackbox/ZOO.py\u001b[0m in \u001b[0;36mget_loss\u001b[0;34m(self, xi, label_onehot_v, c, modifier, TARGETED)\u001b[0m\n\u001b[1;32m     13\u001b[0m         \u001b[0mloss1\u001b[0m \u001b[0;34m=\u001b[0m \u001b[0mc\u001b[0m\u001b[0;34m*\u001b[0m\u001b[0mtorch\u001b[0m\u001b[0;34m.\u001b[0m\u001b[0msum\u001b[0m\u001b[0;34m(\u001b[0m\u001b[0mmodifier\u001b[0m\u001b[0;34m*\u001b[0m\u001b[0mmodifier\u001b[0m\u001b[0;34m)\u001b[0m\u001b[0;34m\u001b[0m\u001b[0m\n\u001b[1;32m     14\u001b[0m         \u001b[0;31m#output = net(torch.clamp(xi+modifier,0,1))\u001b[0m\u001b[0;34m\u001b[0m\u001b[0;34m\u001b[0m\u001b[0m\n\u001b[0;32m---> 15\u001b[0;31m         \u001b[0moutput\u001b[0m \u001b[0;34m=\u001b[0m \u001b[0mself\u001b[0m\u001b[0;34m.\u001b[0m\u001b[0mmodel\u001b[0m\u001b[0;34m.\u001b[0m\u001b[0mpredict\u001b[0m\u001b[0;34m(\u001b[0m\u001b[0mxi\u001b[0m\u001b[0;34m+\u001b[0m\u001b[0mmodifier\u001b[0m\u001b[0;34m)\u001b[0m\u001b[0;34m\u001b[0m\u001b[0m\n\u001b[0m\u001b[1;32m     16\u001b[0m         \u001b[0mreal\u001b[0m \u001b[0;34m=\u001b[0m \u001b[0mtorch\u001b[0m\u001b[0;34m.\u001b[0m\u001b[0mmax\u001b[0m\u001b[0;34m(\u001b[0m\u001b[0mtorch\u001b[0m\u001b[0;34m.\u001b[0m\u001b[0mmul\u001b[0m\u001b[0;34m(\u001b[0m\u001b[0moutput\u001b[0m\u001b[0;34m,\u001b[0m \u001b[0mlabel_onehot_v\u001b[0m\u001b[0;34m)\u001b[0m\u001b[0;34m,\u001b[0m \u001b[0;36m1\u001b[0m\u001b[0;34m)\u001b[0m\u001b[0;34m[\u001b[0m\u001b[0;36m0\u001b[0m\u001b[0;34m]\u001b[0m\u001b[0;34m\u001b[0m\u001b[0m\n\u001b[1;32m     17\u001b[0m         \u001b[0mother\u001b[0m \u001b[0;34m=\u001b[0m \u001b[0mtorch\u001b[0m\u001b[0;34m.\u001b[0m\u001b[0mmax\u001b[0m\u001b[0;34m(\u001b[0m\u001b[0mtorch\u001b[0m\u001b[0;34m.\u001b[0m\u001b[0mmul\u001b[0m\u001b[0;34m(\u001b[0m\u001b[0moutput\u001b[0m\u001b[0;34m,\u001b[0m \u001b[0;34m(\u001b[0m\u001b[0;36m1\u001b[0m\u001b[0;34m-\u001b[0m\u001b[0mlabel_onehot_v\u001b[0m\u001b[0;34m)\u001b[0m\u001b[0;34m)\u001b[0m\u001b[0;34m-\u001b[0m\u001b[0mlabel_onehot_v\u001b[0m\u001b[0;34m*\u001b[0m\u001b[0;36m10000\u001b[0m\u001b[0;34m,\u001b[0m\u001b[0;36m1\u001b[0m\u001b[0;34m)\u001b[0m\u001b[0;34m[\u001b[0m\u001b[0;36m0\u001b[0m\u001b[0;34m]\u001b[0m\u001b[0;34m\u001b[0m\u001b[0m\n",
      "\u001b[0;32m~/attackbox/models.py\u001b[0m in \u001b[0;36mpredict\u001b[0;34m(self, image)\u001b[0m\n\u001b[1;32m     11\u001b[0m \u001b[0;34m\u001b[0m\u001b[0m\n\u001b[1;32m     12\u001b[0m     \u001b[0;32mdef\u001b[0m \u001b[0mpredict\u001b[0m\u001b[0;34m(\u001b[0m\u001b[0mself\u001b[0m\u001b[0;34m,\u001b[0m\u001b[0mimage\u001b[0m\u001b[0;34m)\u001b[0m\u001b[0;34m:\u001b[0m\u001b[0;34m\u001b[0m\u001b[0m\n\u001b[0;32m---> 13\u001b[0;31m         \u001b[0mimage\u001b[0m \u001b[0;34m=\u001b[0m \u001b[0mtorch\u001b[0m\u001b[0;34m.\u001b[0m\u001b[0mclamp\u001b[0m\u001b[0;34m(\u001b[0m\u001b[0mimage\u001b[0m\u001b[0;34m,\u001b[0m\u001b[0mself\u001b[0m\u001b[0;34m.\u001b[0m\u001b[0mbounds\u001b[0m\u001b[0;34m[\u001b[0m\u001b[0;36m0\u001b[0m\u001b[0;34m]\u001b[0m\u001b[0;34m,\u001b[0m\u001b[0mself\u001b[0m\u001b[0;34m.\u001b[0m\u001b[0mbounds\u001b[0m\u001b[0;34m[\u001b[0m\u001b[0;36m1\u001b[0m\u001b[0;34m]\u001b[0m\u001b[0;34m)\u001b[0m\u001b[0;34m.\u001b[0m\u001b[0mcuda\u001b[0m\u001b[0;34m(\u001b[0m\u001b[0;34m)\u001b[0m\u001b[0;34m\u001b[0m\u001b[0m\n\u001b[0m\u001b[1;32m     14\u001b[0m         \u001b[0;32mif\u001b[0m \u001b[0mlen\u001b[0m\u001b[0;34m(\u001b[0m\u001b[0mimage\u001b[0m\u001b[0;34m.\u001b[0m\u001b[0msize\u001b[0m\u001b[0;34m(\u001b[0m\u001b[0;34m)\u001b[0m\u001b[0;34m)\u001b[0m\u001b[0;34m!=\u001b[0m\u001b[0;36m4\u001b[0m\u001b[0;34m:\u001b[0m\u001b[0;34m\u001b[0m\u001b[0m\n\u001b[1;32m     15\u001b[0m             \u001b[0mimage\u001b[0m \u001b[0;34m=\u001b[0m \u001b[0mimage\u001b[0m\u001b[0;34m.\u001b[0m\u001b[0munsqueeze\u001b[0m\u001b[0;34m(\u001b[0m\u001b[0;36m0\u001b[0m\u001b[0;34m)\u001b[0m\u001b[0;34m\u001b[0m\u001b[0m\n",
      "\u001b[0;32m~/anaconda3/lib/python3.6/site-packages/torch/autograd/variable.py\u001b[0m in \u001b[0;36mclamp\u001b[0;34m(self, min, max)\u001b[0m\n\u001b[1;32m    334\u001b[0m             \u001b[0;32mreturn\u001b[0m \u001b[0mCmaxConstant\u001b[0m\u001b[0;34m.\u001b[0m\u001b[0mapply\u001b[0m\u001b[0;34m(\u001b[0m\u001b[0mself\u001b[0m\u001b[0;34m,\u001b[0m \u001b[0mmin\u001b[0m\u001b[0;34m)\u001b[0m\u001b[0;34m\u001b[0m\u001b[0m\n\u001b[1;32m    335\u001b[0m         \u001b[0;32melse\u001b[0m\u001b[0;34m:\u001b[0m\u001b[0;34m\u001b[0m\u001b[0m\n\u001b[0;32m--> 336\u001b[0;31m             \u001b[0;32mreturn\u001b[0m \u001b[0mClamp\u001b[0m\u001b[0;34m.\u001b[0m\u001b[0mapply\u001b[0m\u001b[0;34m(\u001b[0m\u001b[0mself\u001b[0m\u001b[0;34m,\u001b[0m \u001b[0mmin\u001b[0m\u001b[0;34m,\u001b[0m \u001b[0mmax\u001b[0m\u001b[0;34m)\u001b[0m\u001b[0;34m\u001b[0m\u001b[0m\n\u001b[0m\u001b[1;32m    337\u001b[0m \u001b[0;34m\u001b[0m\u001b[0m\n\u001b[1;32m    338\u001b[0m     \u001b[0;32mdef\u001b[0m \u001b[0mprod\u001b[0m\u001b[0;34m(\u001b[0m\u001b[0mself\u001b[0m\u001b[0;34m,\u001b[0m \u001b[0mdim\u001b[0m\u001b[0;34m=\u001b[0m\u001b[0;32mNone\u001b[0m\u001b[0;34m,\u001b[0m \u001b[0mkeepdim\u001b[0m\u001b[0;34m=\u001b[0m\u001b[0;32mNone\u001b[0m\u001b[0;34m)\u001b[0m\u001b[0;34m:\u001b[0m\u001b[0;34m\u001b[0m\u001b[0m\n",
      "\u001b[0;32m~/anaconda3/lib/python3.6/site-packages/torch/autograd/_functions/pointwise.py\u001b[0m in \u001b[0;36mforward\u001b[0;34m(ctx, i, min_val, max_val)\u001b[0m\n\u001b[1;32m     97\u001b[0m     \u001b[0;34m@\u001b[0m\u001b[0mstaticmethod\u001b[0m\u001b[0;34m\u001b[0m\u001b[0m\n\u001b[1;32m     98\u001b[0m     \u001b[0;32mdef\u001b[0m \u001b[0mforward\u001b[0m\u001b[0;34m(\u001b[0m\u001b[0mctx\u001b[0m\u001b[0;34m,\u001b[0m \u001b[0mi\u001b[0m\u001b[0;34m,\u001b[0m \u001b[0mmin_val\u001b[0m\u001b[0;34m,\u001b[0m \u001b[0mmax_val\u001b[0m\u001b[0;34m)\u001b[0m\u001b[0;34m:\u001b[0m\u001b[0;34m\u001b[0m\u001b[0m\n\u001b[0;32m---> 99\u001b[0;31m         \u001b[0mctx\u001b[0m\u001b[0;34m.\u001b[0m\u001b[0m_mask\u001b[0m \u001b[0;34m=\u001b[0m \u001b[0;34m(\u001b[0m\u001b[0mi\u001b[0m\u001b[0;34m.\u001b[0m\u001b[0mge\u001b[0m\u001b[0;34m(\u001b[0m\u001b[0mmin_val\u001b[0m\u001b[0;34m)\u001b[0m \u001b[0;34m*\u001b[0m \u001b[0mi\u001b[0m\u001b[0;34m.\u001b[0m\u001b[0mle\u001b[0m\u001b[0;34m(\u001b[0m\u001b[0mmax_val\u001b[0m\u001b[0;34m)\u001b[0m\u001b[0;34m)\u001b[0m\u001b[0;34m\u001b[0m\u001b[0m\n\u001b[0m\u001b[1;32m    100\u001b[0m         \u001b[0;32mreturn\u001b[0m \u001b[0mi\u001b[0m\u001b[0;34m.\u001b[0m\u001b[0mclamp\u001b[0m\u001b[0;34m(\u001b[0m\u001b[0mmin_val\u001b[0m\u001b[0;34m,\u001b[0m \u001b[0mmax_val\u001b[0m\u001b[0;34m)\u001b[0m\u001b[0;34m\u001b[0m\u001b[0m\n\u001b[1;32m    101\u001b[0m \u001b[0;34m\u001b[0m\u001b[0m\n",
      "\u001b[0;32m~/anaconda3/lib/python3.6/site-packages/torch/tensor.py\u001b[0m in \u001b[0;36m__mul__\u001b[0;34m(self, other)\u001b[0m\n\u001b[1;32m    319\u001b[0m \u001b[0;34m\u001b[0m\u001b[0m\n\u001b[1;32m    320\u001b[0m     \u001b[0;32mdef\u001b[0m \u001b[0m__mul__\u001b[0m\u001b[0;34m(\u001b[0m\u001b[0mself\u001b[0m\u001b[0;34m,\u001b[0m \u001b[0mother\u001b[0m\u001b[0;34m)\u001b[0m\u001b[0;34m:\u001b[0m\u001b[0;34m\u001b[0m\u001b[0m\n\u001b[0;32m--> 321\u001b[0;31m         \u001b[0;32mreturn\u001b[0m \u001b[0mself\u001b[0m\u001b[0;34m.\u001b[0m\u001b[0mmul\u001b[0m\u001b[0;34m(\u001b[0m\u001b[0mother\u001b[0m\u001b[0;34m)\u001b[0m\u001b[0;34m\u001b[0m\u001b[0m\n\u001b[0m\u001b[1;32m    322\u001b[0m     \u001b[0m__rmul__\u001b[0m \u001b[0;34m=\u001b[0m \u001b[0m__mul__\u001b[0m\u001b[0;34m\u001b[0m\u001b[0m\n\u001b[1;32m    323\u001b[0m \u001b[0;34m\u001b[0m\u001b[0m\n",
      "\u001b[0;31mKeyboardInterrupt\u001b[0m: "
     ]
    }
   ],
   "source": [
    "attack(xi,yi)"
   ]
  },
  {
   "cell_type": "code",
   "execution_count": null,
   "metadata": {},
   "outputs": [],
   "source": [
    "from torch.autograd import Variable\n",
    "target = torch.LongTensor(1).random_(10)\n",
    "attack(xi,target,TARGETED=True)"
   ]
  },
  {
   "cell_type": "code",
   "execution_count": null,
   "metadata": {},
   "outputs": [],
   "source": [
    "xi=xi.numpy()\n",
    "attack(xi,yi)"
   ]
  },
  {
   "cell_type": "code",
   "execution_count": null,
   "metadata": {},
   "outputs": [],
   "source": [
    "idx_a = [6312, 6891, 664, 4243, 8377, 7962, 6635, 4970, 7809, 5867, 9559, 3579, 8269, 2282, 4618, 2290, 1554, 4105, 8726, 9862, 2408, 5082, 1619, 1209, 5410, 7736, 9172, 1650, 5797, 7114, 5181, 3351, 9053, 7816, 7254, 8542, 4268, 1021, 8990, 231, 1529, 6535, 19, 8087, 5459, 3997, 5329, 1032, 3131, 9299, 3633, 3910, 2335, 8897, 7340, 1495, 1319, 5244, 8323, 8017, 1787, 4939, 9032, 4770, 2045, 8970, 5452, 8853, 3330, 9883, 8966, 9628, 4713, 7291, 1502, 9770, 6307, 5195, 9432, 3967, 4757, 3013, 3103, 3060, 541, 4261, 7808, 1132, 1472, 2134, 2451, 634, 1315, 8858, 6411, 8595, 4516, 8550, 3859, 3526]\n",
    "res=[]\n",
    "fail = 0\n",
    "#idx_a = [6312]\n",
    "for idx in idx_a:\n",
    "    count = 0\n",
    "    #random_all = torch.zeros(1,1,28,28)\n",
    "    print(idx)\n",
    "    xi, yi = test_dataset[idx]\n",
    "    #xi = xi.numpy()\n",
    "    #yi = yi.cuda()\n",
    "    for _ in range(30):\n",
    "        xi = xi.expand(10000,1,28,28)\n",
    "    #for _ in range(130000):\n",
    "        random_noise = torch.randn(10000,1,28,28)\n",
    "        norm_r = torch.norm(torch.norm(torch.norm(random_noise,2,1),2,1),2,1)\n",
    "        norm_r = norm_r.unsqueeze(1).unsqueeze(2).expand(xi.size()[0],1,28).unsqueeze(3).expand(xi.size()[0],1,28,28)\n",
    "    #print(norm_r)\n",
    "        random_noise/=norm_r\n",
    "    #print(random_noise)\n",
    "    #random_all = torch.cat((random_all,random_noise),0)\n",
    "    #random_all =random_all[1:,:,:,:]\n",
    "    #print(random_all)\n",
    "    #random_noise = random_noise.expand(1000,1,28,28)\n",
    "    #random_noise = torch.autograd\n",
    "        new_xi = xi + random_noise\n",
    "        res= amodel.predict(new_xi)\n",
    "        _, p_label = torch.max(res,1)\n",
    "    #print(p_label,yi)\n",
    "        right = (p_label.data!=yi).nonzero()\n",
    "        if len(right.size())!=0:\n",
    "            count+=1\n",
    "        \n",
    "    if count==0:\n",
    "        fail +=1\n",
    "#print(res)"
   ]
  },
  {
   "cell_type": "code",
   "execution_count": null,
   "metadata": {},
   "outputs": [],
   "source": [
    "print(fail) "
   ]
  },
  {
   "cell_type": "code",
   "execution_count": null,
   "metadata": {},
   "outputs": [],
   "source": [
    "print(len(idx_a))"
   ]
  },
  {
   "cell_type": "code",
   "execution_count": null,
   "metadata": {},
   "outputs": [],
   "source": [
    "net = CIFAR10()\n",
    "net.cuda()\n",
    "net = torch.nn.DataParallel(net, device_ids=[0])\n",
    "load_model(net,'cifar10_gpu.pt')\n",
    "net.eval()\n",
    "model = net.module if torch.cuda.is_available() else net\n",
    "train_loader, test_loader, train_dataset, test_dataset = load_cifar10_data()\n",
    "amodel = PytorchModel(model, bounds=[0,1], num_classes=10)\n",
    "idx_a =  [6311, 6890, 663, 4242, 8376, 7961, 6634, 4969, 7808, 5866, 9558, 3578, 8268, 2281, 4617, 2289, 1553, 4104, 8725, 9861, 2407, 5081, 1618, 1208, 5409, 7735, 9171, 1649, 5796,7113, 5180, 3350, 9052, 7815, 7253, 8541, 4267, 1020, 8989, 230, 1528, 6534, 18, 8086, 5458, 3996, 5328, 1031, 3130, 9298, 3632, 3909, 2334, 8896, 7339, 1494, 1318, 5243, 8322, 8016, 1786, 4938, 9031, 4769, 2044, 8969, 5451, 8852, 3329, 9882, 8965, 9627, 4712, 7290, 1501, 9769, 6306, 5194, 9431, 3966, 4756, 3012, 3102, 3059, 540, 4260, 7807, 1131, 1471, 2133, 2450, 633, 1314, 8857, 6410, 8594, 4515, 8549, 3858, 3525, 6411, 4360, 7753, 7413, 684, 3343, 6785, 7079, 2263]\n",
    "fail = 0\n",
    "#idx_a = [6311]\n",
    "for idx in idx_a:\n",
    "    #random_all = torch.zeros(1,1,28,28)\n",
    "    count =0\n",
    "    print(idx)\n",
    "    xi, yi = test_dataset[idx]\n",
    "    #xi = xi.numpy()\n",
    "    #yi = yi.cuda()\n",
    "    xi = xi.expand(10000,3,32,32)\n",
    "    for _ in range(30):\n",
    "    #for _ in range(130000):\n",
    "        random_noise = torch.randn(10000,3,32,32)\n",
    "        norm_r = torch.norm(torch.norm(torch.norm(random_noise,2,1),2,1),2,1)\n",
    "        norm_r = norm_r.unsqueeze(1).unsqueeze(2).expand(xi.size()[0],3,32).unsqueeze(3).expand(xi.size()[0],3,32,32)\n",
    "    #print(norm_r)\n",
    "        random_noise/=norm_r\n",
    "        random_noise *= 0.15\n",
    "    #print(random_noise)\n",
    "    #random_all = torch.cat((random_all,random_noise),0)\n",
    "    #random_all =random_all[1:,:,:,:]\n",
    "    #print(random_all)\n",
    "    #random_noise = random_noise.expand(1000,1,28,28)\n",
    "    #random_noise = torch.autograd\n",
    "        new_xi = xi + random_noise\n",
    "        res= amodel.predict(new_xi)\n",
    "        _, p_label = torch.max(res,1)\n",
    "    #print(p_label,yi)\n",
    "        right = (p_label.data!=yi).nonzero()\n",
    "        if len(right.size())!=0:\n",
    "            count+=1\n",
    "        \n",
    "    if count==0:\n",
    "        fail +=1"
   ]
  },
  {
   "cell_type": "code",
   "execution_count": null,
   "metadata": {},
   "outputs": [],
   "source": [
    "print(fail,count) "
   ]
  },
  {
   "cell_type": "code",
   "execution_count": null,
   "metadata": {},
   "outputs": [],
   "source": [
    "print(len(idx_a))"
   ]
  },
  {
   "cell_type": "code",
   "execution_count": null,
   "metadata": {},
   "outputs": [],
   "source": []
  }
 ],
 "metadata": {
  "kernelspec": {
   "display_name": "Python 3",
   "language": "python",
   "name": "python3"
  },
  "language_info": {
   "codemirror_mode": {
    "name": "ipython",
    "version": 3
   },
   "file_extension": ".py",
   "mimetype": "text/x-python",
   "name": "python",
   "nbconvert_exporter": "python",
   "pygments_lexer": "ipython3",
   "version": "3.6.4"
  }
 },
 "nbformat": 4,
 "nbformat_minor": 2
}
