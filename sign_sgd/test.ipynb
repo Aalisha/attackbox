{
 "cells": [
  {
   "cell_type": "code",
   "execution_count": 1,
   "metadata": {
    "collapsed": false
   },
   "outputs": [],
   "source": [
    "%load_ext autoreload\n",
    "%autoreload 2\n",
    "from CW import CW\n",
    "from FGSM import FGSM\n",
    "from OPT_attack import OPT_attack\n",
    "from OPT_attack_polar import OPT_attack_polar\n",
    "from OPT_attack_polar_GD import OPT_attack_polar_GD\n",
    "from OPT_attack_lsq import OPT_attack_lsq\n",
    "from OPT_attack_polar_lsq import OPT_attack_polar_lsq\n",
    "from OPT_attack_GD import OPT_attack_GD\n",
    "from OPT_genattack import OPT_genattack\n",
    "from OPT_attack_sign_SGD import OPT_attack_sign_SGD\n",
    "from ZOO import ZOO\n",
    "from OPT_attack_lf import OPT_attack_lf\n",
    "from nes_attack import NES\n",
    "from models import PytorchModel\n",
    "import torch\n",
    "from allmodels import MNIST, load_model, load_mnist_data, load_cifar10_data, CIFAR10\n",
    "import os\n",
    "import numpy as np\n",
    "import matplotlib.pyplot as plt"
   ]
  },
  {
   "cell_type": "code",
   "execution_count": 2,
   "metadata": {
    "collapsed": false
   },
   "outputs": [
    {
     "data": {
      "image/png": "[encoded data removed]",
      "text/plain": [
       "<Figure size 432x288 with 3 Axes>"
      ]
     },
     "metadata": {},
     "output_type": "display_data"
    }
   ],
   "source": [
    "net = MNIST()\n",
    "net.cuda()\n",
    "net = torch.nn.DataParallel(net, device_ids=[0])\n",
    "# print(net)\n",
    "load_model(net,'mnist_gpu.pt')\n",
    "net.eval()\n",
    "model = net.module if torch.cuda.is_available() else net\n",
    "# model = model.cpu()\n",
    "train_loader, test_loader, train_dataset, test_dataset = load_mnist_data()\n",
    "\n",
    "X0, Y0 = None, None\n",
    "X1, Y1 = None, None\n",
    "X2, Y2 = None, None\n",
    "for i, (xi,yi) in enumerate(test_loader):\n",
    "    if i==0:\n",
    "        X0, Y0 = xi, yi\n",
    "    if i==1:\n",
    "        X1, Y1 = xi, yi\n",
    "    if i==2:\n",
    "        X2, Y2 = xi, yi\n",
    "        \n",
    "amodel = PytorchModel(model, bounds=[0,1], num_classes=10)\n",
    "\n",
    "def plot_adv(X, adv):\n",
    "    plt.subplot(1,2,1)\n",
    "    plt.imshow(X[0][0], cmap='gray')\n",
    "    plt.subplot(1,2,2)\n",
    "    plt.imshow(adv.cpu()[0][0], cmap='gray')\n",
    "    plt.show()\n",
    "\n",
    "# Plot the sample images\n",
    "plt.subplot(1,3,1)\n",
    "plt.imshow(X0[0][0], cmap='gray')\n",
    "plt.subplot(1,3,2)\n",
    "plt.imshow(X1[0][0], cmap='gray')\n",
    "plt.subplot(1,3,3)\n",
    "plt.imshow(X2[0][0], cmap='gray')\n",
    "plt.show()"
   ]
  },
  {
   "cell_type": "markdown",
   "metadata": {},
   "source": [
    "### Baseline distortions for 3 examples (Original Randomized Gradient Free optimization)"
   ]
  },
  {
   "cell_type": "code",
   "execution_count": 3,
   "metadata": {
    "collapsed": false
   },
   "outputs": [
    {
     "name": "stdout",
     "output_type": "stream",
     "text": [
      "d0  1.41381\n",
      "d1  1.30457\n",
      "d3  0.7591699999999999\n"
     ]
    }
   ],
   "source": [
    "# These distortions were calculated by taking average of 10 trials for each example\n",
    "# using the randomized gradient free method.\n",
    "d0 = (1.5292 + 1.5095 + 1.4743 + 1.3108 + 1.2816 + 1.4416 + 1.5323 + 1.3404 + 1.3365 + 1.3819)/10\n",
    "d1 = (1.2531 + 1.3640 + 1.2929 + 1.2826 + 1.2985 + 1.3726 + 1.3016 + 1.2917 + 1.2976 + 1.2911)/10\n",
    "d2 = (0.7499 + 0.7520 + 0.7615 + 0.7599 + 0.7609 + 0.7635 + 0.7450 + 0.7497 + 0.8018 + 0.7475)/10\n",
    "print(\"d0 \", d0)\n",
    "print(\"d1 \", d1)\n",
    "print(\"d3 \", d2)"
   ]
  },
  {
   "cell_type": "markdown",
   "metadata": {},
   "source": [
    "### Original - Randomized Gradient Free optimization"
   ]
  },
  {
   "cell_type": "code",
   "execution_count": 4,
   "metadata": {
    "collapsed": false
   },
   "outputs": [
    {
     "name": "stderr",
     "output_type": "stream",
     "text": [
      "/home/simranjit/blackbox/attackbox-master/models.py:26: UserWarning: volatile was removed and now has no effect. Use `with torch.no_grad():` instead.\n",
      "  image = Variable(image, volatile=True) # ?? not supported by latest pytorch\n"
     ]
    },
    {
     "name": "stdout",
     "output_type": "stream",
     "text": [
      "Searching for the initial direction on 100 random directions: \n",
      "--------> Found distortion 9.5727\n",
      "--------> Found distortion 9.0337\n",
      "--------> Found distortion 8.5376\n",
      "--------> Found distortion 8.4007\n",
      "--------> Found distortion 7.2907\n",
      "--------> Found distortion 6.9967\n",
      "==========> Found best distortion 6.9967 in 0.4806 seconds using 316 queries\n",
      "Iteration  50: g(theta + beta*u) = 2.49849710 g(theta) = 2.4984 distortion 2.49837511 num_queries 10324\n",
      "Iteration 100: g(theta + beta*u) = 1.88182856 g(theta) = 1.8819 distortion 1.88189518 num_queries 19928\n",
      "Iteration 150: g(theta + beta*u) = 1.58258299 g(theta) = 1.5825 distortion 1.58247288 num_queries 29197\n",
      "Iteration 200: g(theta + beta*u) = 1.45045548 g(theta) = 1.4505 distortion 1.45045371 num_queries 37871\n",
      "Success: required distortion reached\n",
      "\n",
      "Adversarial Example Found Successfully: distortion 1.4127 target 2 queries 43045 \n",
      "Time: 66.0937 seconds\n"
     ]
    },
    {
     "data": {
      "image/png": "[encoded data removed]",
      "text/plain": [
       "<Figure size 432x288 with 2 Axes>"
      ]
     },
     "metadata": {},
     "output_type": "display_data"
    }
   ],
   "source": [
    "attack = OPT_attack(amodel)\n",
    "adv, dist = attack(X0.cuda(), Y0.cuda(), distortion=d0)\n",
    "plot_adv(X0, adv)"
   ]
  },
  {
   "cell_type": "markdown",
   "metadata": {},
   "source": [
    "### SIGN SGD"
   ]
  },
  {
   "cell_type": "code",
   "execution_count": 5,
   "metadata": {
    "collapsed": false,
    "scrolled": true
   },
   "outputs": [
    {
     "name": "stderr",
     "output_type": "stream",
     "text": [
      "/home/simranjit/blackbox/attackbox-master/models.py:26: UserWarning: volatile was removed and now has no effect. Use `with torch.no_grad():` instead.\n",
      "  image = Variable(image, volatile=True) # ?? not supported by latest pytorch\n"
     ]
    },
    {
     "name": "stdout",
     "output_type": "stream",
     "text": [
      "Running gradient descent with start learning rate  1.0\n",
      "Searching for the initial direction on 100 random directions: \n",
      "--------> Found distortion 8.8007\n",
      "--------> Found distortion 7.3728\n",
      "==========> Found best distortion 7.3728 in 0.3596 seconds using 240 queries\n",
      "Iteration:  0  Distortion:  6.479932591982262  Queries:  772  LR:  1.0\n",
      "Iteration:  5  Distortion:  4.357256419878452  Queries:  3405  LR:  1.0\n",
      "Iteration:  10  Distortion:  3.4252844736355765  Queries:  6016  LR:  1.0\n",
      "Iteration:  15  Distortion:  2.869690203844324  Queries:  8617  LR:  1.0\n",
      "Iteration:  20  Distortion:  2.4957594303611033  Queries:  11214  LR:  0.9\n",
      "Iteration:  25  Distortion:  2.2545883621619396  Queries:  13805  LR:  0.9\n",
      "Iteration:  30  Distortion:  2.079413819972644  Queries:  16390  LR:  0.9\n",
      "Iteration:  35  Distortion:  1.9578613910000553  Queries:  18975  LR:  0.9\n",
      "Iteration:  40  Distortion:  1.8661418183431357  Queries:  21554  LR:  0.81\n",
      "Iteration:  45  Distortion:  1.7976905476735663  Queries:  24129  LR:  0.81\n",
      "Iteration:  50  Distortion:  1.7451275161776274  Queries:  26704  LR:  0.81\n",
      "Iteration:  55  Distortion:  1.7015777639150014  Queries:  29279  LR:  0.81\n",
      "Iteration:  60  Distortion:  1.6668497789300345  Queries:  31854  LR:  0.7290000000000001\n",
      "Iteration:  65  Distortion:  1.6383304107025483  Queries:  34429  LR:  0.7290000000000001\n",
      "Iteration:  70  Distortion:  1.615870292365448  Queries:  36999  LR:  0.7290000000000001\n",
      "Iteration:  75  Distortion:  1.5967215400354744  Queries:  39569  LR:  0.7290000000000001\n",
      "Iteration:  80  Distortion:  1.5844414082920062  Queries:  42139  LR:  0.6561000000000001\n",
      "Success: stopping threshold reached\n",
      "\n",
      "Adversarial Example Found Successfully: distortion 1.5788 target 8 queries 43681 \n",
      "Time: 67.3747 seconds\n",
      "Distortions:  [7.372830407561675, 6.479932591982262, 5.846287117085303, 5.34252218763535, 4.961837088650091, 4.635416197778664, 4.357256419878452, 4.143555465294685, 3.947802212312009, 3.7581718913971187, 3.5896258179218044, 3.4252844736355765, 3.2961696911870524, 3.175518890748225, 3.069021759750863, 2.9664228278119795, 2.869690203844324, 2.7834467198223596, 2.699898892964648, 2.6237372794803147, 2.5572307827964367, 2.4957594303611033, 2.4422615421517992, 2.3917643591695477, 2.3433692121600345, 2.2970848311159395, 2.2545883621619396, 2.2169364268932403, 2.181724118218667, 2.1451883288222557, 2.112710211566182, 2.079413819972644, 2.052088756218137, 2.0256100415243203, 2.0024856332767786, 1.979876948366984, 1.9578613910000553, 1.936343898016069, 1.91462308679808, 1.8968476157450496, 1.8806114152059816, 1.8661418183431357, 1.8508222337137932, 1.8363062024007912, 1.8227009039444049, 1.809684790311501, 1.7976905476735663, 1.7868247459806883, 1.7749514787629805, 1.7648687923537723, 1.7543985014225716, 1.7451275161776274, 1.7347285416046039, 1.7250871609284248, 1.715502524437988, 1.7083615776504713, 1.7015777639150014, 1.692496589618326, 1.6841560027869185, 1.6768515517640887, 1.6715817100648493, 1.6668497789300345, 1.6607608531934033, 1.654379939148694, 1.6483830138199562, 1.6432881581180618, 1.6383304107025483, 1.6325186575610668, 1.6294078645624672, 1.6247197367099602, 1.6207670188934773, 1.615870292365448, 1.611678734295042, 1.6080843287194109, 1.6034006260725304, 1.6000223674292187, 1.5967215400354744, 1.5928018537354118, 1.590663081715015, 1.5892883387195873, 1.585965034368725, 1.5844414082920062, 1.5814435027953602, 1.5795690134872373, 1.578788098630716]\n"
     ]
    },
    {
     "data": {
      "image/png": "[encoded data removed]",
      "text/plain": [
       "<Figure size 432x288 with 2 Axes>"
      ]
     },
     "metadata": {},
     "output_type": "display_data"
    }
   ],
   "source": [
    "attack = OPT_attack_sign_SGD(amodel)\n",
    "adv_sign, dist_sign = attack(X0.cuda(), Y0.cuda(), distortion=d0)\n",
    "plot_adv(X0, adv_sign)"
   ]
  },
  {
   "cell_type": "markdown",
   "metadata": {},
   "source": [
    "### Normal Gradient Descent"
   ]
  },
  {
   "cell_type": "code",
   "execution_count": 25,
   "metadata": {
    "collapsed": false
   },
   "outputs": [
    {
     "name": "stderr",
     "output_type": "stream",
     "text": [
      "/home/simranjit/blackbox/attackbox-master/models.py:26: UserWarning: volatile was removed and now has no effect. Use `with torch.no_grad():` instead.\n",
      "  image = Variable(image, volatile=True) # ?? not supported by latest pytorch\n"
     ]
    },
    {
     "name": "stdout",
     "output_type": "stream",
     "text": [
      "Running gradient descent with learning rate  0.05\n",
      "Searching for the initial direction on 100 random directions: \n",
      "--------> Found distortion 8.6650\n",
      "--------> Found distortion 8.3280\n",
      "--------> Found distortion 7.3320\n",
      "--------> Found distortion 7.2684\n",
      "==========> Found best distortion 7.2684 in 0.3921 seconds using 278 queries\n",
      "Gradient norm:  33.858082160130465\n",
      "Iteration:  0  Distortion:  2.8751678531016553  Queries:  13721\n",
      "Gradient norm:  5.565591148655709\n",
      "Iteration:  1  Distortion:  2.3290906329583585  Queries:  25521\n",
      "Gradient norm:  3.0748165460323116\n",
      "Iteration:  2  Distortion:  2.1921277333398574  Queries:  37305\n",
      "Gradient norm:  2.6954033879180144\n",
      "Iteration:  3  Distortion:  2.1083153633746115  Queries:  49085\n",
      "Gradient norm:  2.4523847899539275\n",
      "Iteration:  4  Distortion:  2.050357175088064  Queries:  60863\n",
      "Gradient norm:  2.3039683311972596\n",
      "Iteration:  5  Distortion:  2.0058473203501457  Queries:  72641\n",
      "Gradient norm:  2.1923677089515796\n",
      "Iteration:  6  Distortion:  1.9703272645005245  Queries:  84418\n",
      "Success: required distortion reached\n",
      "\n",
      "Adversarial Example Found Successfully: distortion 1.9703 target 8 queries 84418 \n",
      "Time: 122.7437 seconds\n"
     ]
    },
    {
     "data": {
      "image/png": "[encoded data removed]",
      "text/plain": [
       "<Figure size 432x288 with 2 Axes>"
      ]
     },
     "metadata": {},
     "output_type": "display_data"
    }
   ],
   "source": [
    "attack = OPT_attack_GD(amodel)\n",
    "adv_gd, dist_gd = attack(X0.cuda(), Y0.cuda(), distortion=2.0)\n",
    "plot_adv(X0, adv_gd)"
   ]
  },
  {
   "cell_type": "markdown",
   "metadata": {},
   "source": [
    "### Gradient Descent With Least Squares Estimation"
   ]
  },
  {
   "cell_type": "code",
   "execution_count": 34,
   "metadata": {
    "collapsed": false
   },
   "outputs": [
    {
     "name": "stderr",
     "output_type": "stream",
     "text": [
      "/home/simranjit/blackbox/attackbox-master/models.py:26: UserWarning: volatile was removed and now has no effect. Use `with torch.no_grad():` instead.\n",
      "  image = Variable(image, volatile=True) # ?? not supported by latest pytorch\n"
     ]
    },
    {
     "name": "stdout",
     "output_type": "stream",
     "text": [
      "Running gradient descent with learning rate  0.05\n",
      "Searching for the initial direction on 100 random directions: \n",
      "--------> Found distortion 9.6806\n",
      "--------> Found distortion 8.6644\n",
      "--------> Found distortion 8.3515\n",
      "--------> Found distortion 7.8923\n",
      "--------> Found distortion 7.8217\n",
      "--------> Found distortion 6.8431\n",
      "==========> Found best distortion 6.8431 in 0.4492 seconds using 316 queries\n"
     ]
    },
    {
     "ename": "KeyboardInterrupt",
     "evalue": "",
     "output_type": "error",
     "traceback": [
      "\u001b[0;31m---------------------------------------------------------------------------\u001b[0m",
      "\u001b[0;31mKeyboardInterrupt\u001b[0m                         Traceback (most recent call last)",
      "\u001b[0;32m<ipython-input-34-4f56d2cbe645>\u001b[0m in \u001b[0;36m<module>\u001b[0;34m()\u001b[0m\n\u001b[1;32m      1\u001b[0m \u001b[0mattack\u001b[0m \u001b[0;34m=\u001b[0m \u001b[0mOPT_attack_lsq\u001b[0m\u001b[0;34m(\u001b[0m\u001b[0mamodel\u001b[0m\u001b[0;34m)\u001b[0m\u001b[0;34m\u001b[0m\u001b[0;34m\u001b[0m\u001b[0m\n\u001b[0;32m----> 2\u001b[0;31m \u001b[0madv_lsq\u001b[0m\u001b[0;34m,\u001b[0m \u001b[0mdist_lsq\u001b[0m \u001b[0;34m=\u001b[0m \u001b[0mattack\u001b[0m\u001b[0;34m(\u001b[0m\u001b[0mX0\u001b[0m\u001b[0;34m.\u001b[0m\u001b[0mcuda\u001b[0m\u001b[0;34m(\u001b[0m\u001b[0;34m)\u001b[0m\u001b[0;34m,\u001b[0m \u001b[0mY0\u001b[0m\u001b[0;34m.\u001b[0m\u001b[0mcuda\u001b[0m\u001b[0;34m(\u001b[0m\u001b[0;34m)\u001b[0m\u001b[0;34m,\u001b[0m \u001b[0mdistortion\u001b[0m\u001b[0;34m=\u001b[0m\u001b[0md0\u001b[0m\u001b[0;34m)\u001b[0m\u001b[0;34m\u001b[0m\u001b[0;34m\u001b[0m\u001b[0m\n\u001b[0m\u001b[1;32m      3\u001b[0m \u001b[0mplot_adv\u001b[0m\u001b[0;34m(\u001b[0m\u001b[0mX0\u001b[0m\u001b[0;34m,\u001b[0m \u001b[0madv_lsq\u001b[0m\u001b[0;34m)\u001b[0m\u001b[0;34m\u001b[0m\u001b[0;34m\u001b[0m\u001b[0m\n",
      "\u001b[0;32m/home/simranjit/blackbox/attackbox-master/OPT_attack_lsq.py\u001b[0m in \u001b[0;36m__call__\u001b[0;34m(self, input_xi, label_or_target, TARGETED, distortion)\u001b[0m\n\u001b[1;32m    224\u001b[0m             \u001b[0mprint\u001b[0m\u001b[0;34m(\u001b[0m\u001b[0;34m\"Not Implemented.\"\u001b[0m\u001b[0;34m)\u001b[0m\u001b[0;34m\u001b[0m\u001b[0;34m\u001b[0m\u001b[0m\n\u001b[1;32m    225\u001b[0m         \u001b[0;32melse\u001b[0m\u001b[0;34m:\u001b[0m\u001b[0;34m\u001b[0m\u001b[0;34m\u001b[0m\u001b[0m\n\u001b[0;32m--> 226\u001b[0;31m             \u001b[0madv\u001b[0m \u001b[0;34m=\u001b[0m \u001b[0mself\u001b[0m\u001b[0;34m.\u001b[0m\u001b[0mattack_untargeted\u001b[0m\u001b[0;34m(\u001b[0m\u001b[0minput_xi\u001b[0m\u001b[0;34m,\u001b[0m \u001b[0mlabel_or_target\u001b[0m\u001b[0;34m,\u001b[0m \u001b[0mdistortion\u001b[0m\u001b[0;34m=\u001b[0m\u001b[0mdistortion\u001b[0m\u001b[0;34m)\u001b[0m\u001b[0;34m\u001b[0m\u001b[0;34m\u001b[0m\u001b[0m\n\u001b[0m\u001b[1;32m    227\u001b[0m         \u001b[0;32mreturn\u001b[0m \u001b[0madv\u001b[0m\u001b[0;34m\u001b[0m\u001b[0;34m\u001b[0m\u001b[0m\n\u001b[1;32m    228\u001b[0m \u001b[0;34m\u001b[0m\u001b[0m\n",
      "\u001b[0;32m/home/simranjit/blackbox/attackbox-master/OPT_attack_lsq.py\u001b[0m in \u001b[0;36mattack_untargeted\u001b[0;34m(self, x0, y0, alpha, beta, iterations, distortion)\u001b[0m\n\u001b[1;32m     60\u001b[0m         \u001b[0;32mfor\u001b[0m \u001b[0mi\u001b[0m \u001b[0;32min\u001b[0m \u001b[0mrange\u001b[0m\u001b[0;34m(\u001b[0m\u001b[0miterations\u001b[0m\u001b[0;34m)\u001b[0m\u001b[0;34m:\u001b[0m\u001b[0;34m\u001b[0m\u001b[0;34m\u001b[0m\u001b[0m\n\u001b[1;32m     61\u001b[0m             gradient1, queries = self.eval_grad_least_squares(model, x0, y0, xg, initial_lbd = gg, \n\u001b[0;32m---> 62\u001b[0;31m                                                               tol=beta/500, h=0.01 ,percent_queries=0.1)\n\u001b[0m\u001b[1;32m     63\u001b[0m             \u001b[0mleast_square_query_count\u001b[0m \u001b[0;34m+=\u001b[0m \u001b[0mqueries\u001b[0m\u001b[0;34m\u001b[0m\u001b[0;34m\u001b[0m\u001b[0m\n\u001b[1;32m     64\u001b[0m             \u001b[0;32mif\u001b[0m \u001b[0;34m(\u001b[0m\u001b[0mi\u001b[0m\u001b[0;34m%\u001b[0m\u001b[0;36m3\u001b[0m\u001b[0;34m==\u001b[0m\u001b[0;36m0\u001b[0m\u001b[0;34m)\u001b[0m\u001b[0;34m:\u001b[0m\u001b[0;34m\u001b[0m\u001b[0;34m\u001b[0m\u001b[0m\n",
      "\u001b[0;32m/home/simranjit/blackbox/attackbox-master/OPT_attack_lsq.py\u001b[0m in \u001b[0;36meval_grad_least_squares\u001b[0;34m(self, model, x0, y0, theta, initial_lbd, tol, h, percent_queries)\u001b[0m\n\u001b[1;32m    187\u001b[0m             \u001b[0mu\u001b[0m \u001b[0;34m/=\u001b[0m \u001b[0mnp\u001b[0m\u001b[0;34m.\u001b[0m\u001b[0mlinalg\u001b[0m\u001b[0;34m.\u001b[0m\u001b[0mnorm\u001b[0m\u001b[0;34m(\u001b[0m\u001b[0mu\u001b[0m\u001b[0;34m)\u001b[0m\u001b[0;34m\u001b[0m\u001b[0;34m\u001b[0m\u001b[0m\n\u001b[1;32m    188\u001b[0m             \u001b[0mtemp_x\u001b[0m \u001b[0;34m=\u001b[0m \u001b[0mx\u001b[0m \u001b[0;34m+\u001b[0m \u001b[0mh\u001b[0m\u001b[0;34m*\u001b[0m\u001b[0mu\u001b[0m\u001b[0;34m\u001b[0m\u001b[0;34m\u001b[0m\u001b[0m\n\u001b[0;32m--> 189\u001b[0;31m             \u001b[0mf1x\u001b[0m\u001b[0;34m,\u001b[0m \u001b[0mcount\u001b[0m \u001b[0;34m=\u001b[0m \u001b[0mself\u001b[0m\u001b[0;34m.\u001b[0m\u001b[0mfine_grained_binary_search_local\u001b[0m\u001b[0;34m(\u001b[0m\u001b[0mmodel\u001b[0m\u001b[0;34m,\u001b[0m \u001b[0mx0\u001b[0m\u001b[0;34m,\u001b[0m \u001b[0my0\u001b[0m\u001b[0;34m,\u001b[0m \u001b[0mtemp_x\u001b[0m\u001b[0;34m,\u001b[0m \u001b[0minitial_lbd\u001b[0m \u001b[0;34m=\u001b[0m \u001b[0minitial_lbd\u001b[0m\u001b[0;34m,\u001b[0m \u001b[0mtol\u001b[0m\u001b[0;34m=\u001b[0m\u001b[0mh\u001b[0m\u001b[0;34m/\u001b[0m\u001b[0;36m500\u001b[0m\u001b[0;34m)\u001b[0m\u001b[0;34m\u001b[0m\u001b[0;34m\u001b[0m\u001b[0m\n\u001b[0m\u001b[1;32m    190\u001b[0m             \u001b[0;31m# f1x, count = self.fine_grained_binary_search_local(model, x0, y0, theta, initial_lbd = initial_lbd, tol=h/500)\u001b[0m\u001b[0;34m\u001b[0m\u001b[0;34m\u001b[0m\u001b[0;34m\u001b[0m\u001b[0m\n\u001b[1;32m    191\u001b[0m             \u001b[0mdf\u001b[0m \u001b[0;34m=\u001b[0m \u001b[0;34m(\u001b[0m\u001b[0mf1x\u001b[0m \u001b[0;34m-\u001b[0m \u001b[0mfx\u001b[0m\u001b[0;34m)\u001b[0m\u001b[0;34m/\u001b[0m\u001b[0mh\u001b[0m\u001b[0;34m\u001b[0m\u001b[0;34m\u001b[0m\u001b[0m\n",
      "\u001b[0;32m/home/simranjit/blackbox/attackbox-master/OPT_attack_lsq.py\u001b[0m in \u001b[0;36mfine_grained_binary_search_local\u001b[0;34m(self, model, x0, y0, theta, initial_lbd, tol)\u001b[0m\n\u001b[1;32m    115\u001b[0m             \u001b[0mlbd_mid\u001b[0m \u001b[0;34m=\u001b[0m \u001b[0;34m(\u001b[0m\u001b[0mlbd_lo\u001b[0m \u001b[0;34m+\u001b[0m \u001b[0mlbd_hi\u001b[0m\u001b[0;34m)\u001b[0m\u001b[0;34m/\u001b[0m\u001b[0;36m2.0\u001b[0m\u001b[0;34m\u001b[0m\u001b[0;34m\u001b[0m\u001b[0m\n\u001b[1;32m    116\u001b[0m             \u001b[0mnquery\u001b[0m \u001b[0;34m+=\u001b[0m \u001b[0;36m1\u001b[0m\u001b[0;34m\u001b[0m\u001b[0;34m\u001b[0m\u001b[0m\n\u001b[0;32m--> 117\u001b[0;31m             \u001b[0;32mif\u001b[0m \u001b[0mmodel\u001b[0m\u001b[0;34m.\u001b[0m\u001b[0mpredict_label\u001b[0m\u001b[0;34m(\u001b[0m\u001b[0mx0\u001b[0m \u001b[0;34m+\u001b[0m \u001b[0mtorch\u001b[0m\u001b[0;34m.\u001b[0m\u001b[0mtensor\u001b[0m\u001b[0;34m(\u001b[0m\u001b[0mlbd_mid\u001b[0m\u001b[0;34m*\u001b[0m\u001b[0mtheta\u001b[0m\u001b[0;34m,\u001b[0m \u001b[0mdtype\u001b[0m\u001b[0;34m=\u001b[0m\u001b[0mtorch\u001b[0m\u001b[0;34m.\u001b[0m\u001b[0mfloat\u001b[0m\u001b[0;34m)\u001b[0m\u001b[0;34m.\u001b[0m\u001b[0mcuda\u001b[0m\u001b[0;34m(\u001b[0m\u001b[0;34m)\u001b[0m\u001b[0;34m)\u001b[0m \u001b[0;34m!=\u001b[0m \u001b[0my0\u001b[0m\u001b[0;34m:\u001b[0m\u001b[0;34m\u001b[0m\u001b[0;34m\u001b[0m\u001b[0m\n\u001b[0m\u001b[1;32m    118\u001b[0m                 \u001b[0mlbd_hi\u001b[0m \u001b[0;34m=\u001b[0m \u001b[0mlbd_mid\u001b[0m\u001b[0;34m\u001b[0m\u001b[0;34m\u001b[0m\u001b[0m\n\u001b[1;32m    119\u001b[0m             \u001b[0;32melse\u001b[0m\u001b[0;34m:\u001b[0m\u001b[0;34m\u001b[0m\u001b[0;34m\u001b[0m\u001b[0m\n",
      "\u001b[0;32m/home/simranjit/blackbox/attackbox-master/models.py\u001b[0m in \u001b[0;36mpredict_label\u001b[0;34m(self, image)\u001b[0m\n\u001b[1;32m     25\u001b[0m             \u001b[0mimage\u001b[0m \u001b[0;34m=\u001b[0m \u001b[0mimage\u001b[0m\u001b[0;34m.\u001b[0m\u001b[0munsqueeze\u001b[0m\u001b[0;34m(\u001b[0m\u001b[0;36m0\u001b[0m\u001b[0;34m)\u001b[0m\u001b[0;34m\u001b[0m\u001b[0;34m\u001b[0m\u001b[0m\n\u001b[1;32m     26\u001b[0m         \u001b[0mimage\u001b[0m \u001b[0;34m=\u001b[0m \u001b[0mVariable\u001b[0m\u001b[0;34m(\u001b[0m\u001b[0mimage\u001b[0m\u001b[0;34m,\u001b[0m \u001b[0mvolatile\u001b[0m\u001b[0;34m=\u001b[0m\u001b[0;32mTrue\u001b[0m\u001b[0;34m)\u001b[0m \u001b[0;31m# ?? not supported by latest pytorch\u001b[0m\u001b[0;34m\u001b[0m\u001b[0;34m\u001b[0m\u001b[0m\n\u001b[0;32m---> 27\u001b[0;31m         \u001b[0moutput\u001b[0m \u001b[0;34m=\u001b[0m \u001b[0mself\u001b[0m\u001b[0;34m.\u001b[0m\u001b[0mmodel\u001b[0m\u001b[0;34m(\u001b[0m\u001b[0mimage\u001b[0m\u001b[0;34m)\u001b[0m\u001b[0;34m\u001b[0m\u001b[0;34m\u001b[0m\u001b[0m\n\u001b[0m\u001b[1;32m     28\u001b[0m         \u001b[0;31m#image = Variable(image, volatile=True) # ?? not supported by latest pytorch\u001b[0m\u001b[0;34m\u001b[0m\u001b[0;34m\u001b[0m\u001b[0;34m\u001b[0m\u001b[0m\n\u001b[1;32m     29\u001b[0m         \u001b[0m_\u001b[0m\u001b[0;34m,\u001b[0m \u001b[0mpredict\u001b[0m \u001b[0;34m=\u001b[0m \u001b[0mtorch\u001b[0m\u001b[0;34m.\u001b[0m\u001b[0mmax\u001b[0m\u001b[0;34m(\u001b[0m\u001b[0moutput\u001b[0m\u001b[0;34m.\u001b[0m\u001b[0mdata\u001b[0m\u001b[0;34m,\u001b[0m \u001b[0;36m1\u001b[0m\u001b[0;34m)\u001b[0m\u001b[0;34m\u001b[0m\u001b[0;34m\u001b[0m\u001b[0m\n",
      "\u001b[0;32m/home/simranjit/anaconda3/lib/python3.6/site-packages/torch/nn/modules/module.py\u001b[0m in \u001b[0;36m__call__\u001b[0;34m(self, *input, **kwargs)\u001b[0m\n\u001b[1;32m    487\u001b[0m             \u001b[0mresult\u001b[0m \u001b[0;34m=\u001b[0m \u001b[0mself\u001b[0m\u001b[0;34m.\u001b[0m\u001b[0m_slow_forward\u001b[0m\u001b[0;34m(\u001b[0m\u001b[0;34m*\u001b[0m\u001b[0minput\u001b[0m\u001b[0;34m,\u001b[0m \u001b[0;34m**\u001b[0m\u001b[0mkwargs\u001b[0m\u001b[0;34m)\u001b[0m\u001b[0;34m\u001b[0m\u001b[0;34m\u001b[0m\u001b[0m\n\u001b[1;32m    488\u001b[0m         \u001b[0;32melse\u001b[0m\u001b[0;34m:\u001b[0m\u001b[0;34m\u001b[0m\u001b[0;34m\u001b[0m\u001b[0m\n\u001b[0;32m--> 489\u001b[0;31m             \u001b[0mresult\u001b[0m \u001b[0;34m=\u001b[0m \u001b[0mself\u001b[0m\u001b[0;34m.\u001b[0m\u001b[0mforward\u001b[0m\u001b[0;34m(\u001b[0m\u001b[0;34m*\u001b[0m\u001b[0minput\u001b[0m\u001b[0;34m,\u001b[0m \u001b[0;34m**\u001b[0m\u001b[0mkwargs\u001b[0m\u001b[0;34m)\u001b[0m\u001b[0;34m\u001b[0m\u001b[0;34m\u001b[0m\u001b[0m\n\u001b[0m\u001b[1;32m    490\u001b[0m         \u001b[0;32mfor\u001b[0m \u001b[0mhook\u001b[0m \u001b[0;32min\u001b[0m \u001b[0mself\u001b[0m\u001b[0;34m.\u001b[0m\u001b[0m_forward_hooks\u001b[0m\u001b[0;34m.\u001b[0m\u001b[0mvalues\u001b[0m\u001b[0;34m(\u001b[0m\u001b[0;34m)\u001b[0m\u001b[0;34m:\u001b[0m\u001b[0;34m\u001b[0m\u001b[0;34m\u001b[0m\u001b[0m\n\u001b[1;32m    491\u001b[0m             \u001b[0mhook_result\u001b[0m \u001b[0;34m=\u001b[0m \u001b[0mhook\u001b[0m\u001b[0;34m(\u001b[0m\u001b[0mself\u001b[0m\u001b[0;34m,\u001b[0m \u001b[0minput\u001b[0m\u001b[0;34m,\u001b[0m \u001b[0mresult\u001b[0m\u001b[0;34m)\u001b[0m\u001b[0;34m\u001b[0m\u001b[0;34m\u001b[0m\u001b[0m\n",
      "\u001b[0;32m/home/simranjit/blackbox/attackbox-master/allmodels.py\u001b[0m in \u001b[0;36mforward\u001b[0;34m(self, x)\u001b[0m\n\u001b[1;32m    135\u001b[0m \u001b[0;34m\u001b[0m\u001b[0m\n\u001b[1;32m    136\u001b[0m     \u001b[0;32mdef\u001b[0m \u001b[0mforward\u001b[0m\u001b[0;34m(\u001b[0m\u001b[0mself\u001b[0m\u001b[0;34m,\u001b[0m \u001b[0mx\u001b[0m\u001b[0;34m)\u001b[0m\u001b[0;34m:\u001b[0m\u001b[0;34m\u001b[0m\u001b[0;34m\u001b[0m\u001b[0m\n\u001b[0;32m--> 137\u001b[0;31m         \u001b[0mout\u001b[0m \u001b[0;34m=\u001b[0m \u001b[0mself\u001b[0m\u001b[0;34m.\u001b[0m\u001b[0mfeatures\u001b[0m\u001b[0;34m(\u001b[0m\u001b[0mx\u001b[0m\u001b[0;34m)\u001b[0m\u001b[0;34m\u001b[0m\u001b[0;34m\u001b[0m\u001b[0m\n\u001b[0m\u001b[1;32m    138\u001b[0m         \u001b[0mout\u001b[0m \u001b[0;34m=\u001b[0m \u001b[0mout\u001b[0m\u001b[0;34m.\u001b[0m\u001b[0mview\u001b[0m\u001b[0;34m(\u001b[0m\u001b[0mout\u001b[0m\u001b[0;34m.\u001b[0m\u001b[0msize\u001b[0m\u001b[0;34m(\u001b[0m\u001b[0;36m0\u001b[0m\u001b[0;34m)\u001b[0m\u001b[0;34m,\u001b[0m \u001b[0;34m-\u001b[0m\u001b[0;36m1\u001b[0m\u001b[0;34m)\u001b[0m\u001b[0;34m\u001b[0m\u001b[0;34m\u001b[0m\u001b[0m\n\u001b[1;32m    139\u001b[0m         \u001b[0mout\u001b[0m \u001b[0;34m=\u001b[0m \u001b[0mself\u001b[0m\u001b[0;34m.\u001b[0m\u001b[0mfc1\u001b[0m\u001b[0;34m(\u001b[0m\u001b[0mout\u001b[0m\u001b[0;34m)\u001b[0m\u001b[0;34m\u001b[0m\u001b[0;34m\u001b[0m\u001b[0m\n",
      "\u001b[0;32m/home/simranjit/anaconda3/lib/python3.6/site-packages/torch/nn/modules/module.py\u001b[0m in \u001b[0;36m__call__\u001b[0;34m(self, *input, **kwargs)\u001b[0m\n\u001b[1;32m    487\u001b[0m             \u001b[0mresult\u001b[0m \u001b[0;34m=\u001b[0m \u001b[0mself\u001b[0m\u001b[0;34m.\u001b[0m\u001b[0m_slow_forward\u001b[0m\u001b[0;34m(\u001b[0m\u001b[0;34m*\u001b[0m\u001b[0minput\u001b[0m\u001b[0;34m,\u001b[0m \u001b[0;34m**\u001b[0m\u001b[0mkwargs\u001b[0m\u001b[0;34m)\u001b[0m\u001b[0;34m\u001b[0m\u001b[0;34m\u001b[0m\u001b[0m\n\u001b[1;32m    488\u001b[0m         \u001b[0;32melse\u001b[0m\u001b[0;34m:\u001b[0m\u001b[0;34m\u001b[0m\u001b[0;34m\u001b[0m\u001b[0m\n\u001b[0;32m--> 489\u001b[0;31m             \u001b[0mresult\u001b[0m \u001b[0;34m=\u001b[0m \u001b[0mself\u001b[0m\u001b[0;34m.\u001b[0m\u001b[0mforward\u001b[0m\u001b[0;34m(\u001b[0m\u001b[0;34m*\u001b[0m\u001b[0minput\u001b[0m\u001b[0;34m,\u001b[0m \u001b[0;34m**\u001b[0m\u001b[0mkwargs\u001b[0m\u001b[0;34m)\u001b[0m\u001b[0;34m\u001b[0m\u001b[0;34m\u001b[0m\u001b[0m\n\u001b[0m\u001b[1;32m    490\u001b[0m         \u001b[0;32mfor\u001b[0m \u001b[0mhook\u001b[0m \u001b[0;32min\u001b[0m \u001b[0mself\u001b[0m\u001b[0;34m.\u001b[0m\u001b[0m_forward_hooks\u001b[0m\u001b[0;34m.\u001b[0m\u001b[0mvalues\u001b[0m\u001b[0;34m(\u001b[0m\u001b[0;34m)\u001b[0m\u001b[0;34m:\u001b[0m\u001b[0;34m\u001b[0m\u001b[0;34m\u001b[0m\u001b[0m\n\u001b[1;32m    491\u001b[0m             \u001b[0mhook_result\u001b[0m \u001b[0;34m=\u001b[0m \u001b[0mhook\u001b[0m\u001b[0;34m(\u001b[0m\u001b[0mself\u001b[0m\u001b[0;34m,\u001b[0m \u001b[0minput\u001b[0m\u001b[0;34m,\u001b[0m \u001b[0mresult\u001b[0m\u001b[0;34m)\u001b[0m\u001b[0;34m\u001b[0m\u001b[0;34m\u001b[0m\u001b[0m\n",
      "\u001b[0;32m/home/simranjit/anaconda3/lib/python3.6/site-packages/torch/nn/modules/container.py\u001b[0m in \u001b[0;36mforward\u001b[0;34m(self, input)\u001b[0m\n\u001b[1;32m     90\u001b[0m     \u001b[0;32mdef\u001b[0m \u001b[0mforward\u001b[0m\u001b[0;34m(\u001b[0m\u001b[0mself\u001b[0m\u001b[0;34m,\u001b[0m \u001b[0minput\u001b[0m\u001b[0;34m)\u001b[0m\u001b[0;34m:\u001b[0m\u001b[0;34m\u001b[0m\u001b[0;34m\u001b[0m\u001b[0m\n\u001b[1;32m     91\u001b[0m         \u001b[0;32mfor\u001b[0m \u001b[0mmodule\u001b[0m \u001b[0;32min\u001b[0m \u001b[0mself\u001b[0m\u001b[0;34m.\u001b[0m\u001b[0m_modules\u001b[0m\u001b[0;34m.\u001b[0m\u001b[0mvalues\u001b[0m\u001b[0;34m(\u001b[0m\u001b[0;34m)\u001b[0m\u001b[0;34m:\u001b[0m\u001b[0;34m\u001b[0m\u001b[0;34m\u001b[0m\u001b[0m\n\u001b[0;32m---> 92\u001b[0;31m             \u001b[0minput\u001b[0m \u001b[0;34m=\u001b[0m \u001b[0mmodule\u001b[0m\u001b[0;34m(\u001b[0m\u001b[0minput\u001b[0m\u001b[0;34m)\u001b[0m\u001b[0;34m\u001b[0m\u001b[0;34m\u001b[0m\u001b[0m\n\u001b[0m\u001b[1;32m     93\u001b[0m         \u001b[0;32mreturn\u001b[0m \u001b[0minput\u001b[0m\u001b[0;34m\u001b[0m\u001b[0;34m\u001b[0m\u001b[0m\n\u001b[1;32m     94\u001b[0m \u001b[0;34m\u001b[0m\u001b[0m\n",
      "\u001b[0;32m/home/simranjit/anaconda3/lib/python3.6/site-packages/torch/nn/modules/module.py\u001b[0m in \u001b[0;36m__call__\u001b[0;34m(self, *input, **kwargs)\u001b[0m\n\u001b[1;32m    487\u001b[0m             \u001b[0mresult\u001b[0m \u001b[0;34m=\u001b[0m \u001b[0mself\u001b[0m\u001b[0;34m.\u001b[0m\u001b[0m_slow_forward\u001b[0m\u001b[0;34m(\u001b[0m\u001b[0;34m*\u001b[0m\u001b[0minput\u001b[0m\u001b[0;34m,\u001b[0m \u001b[0;34m**\u001b[0m\u001b[0mkwargs\u001b[0m\u001b[0;34m)\u001b[0m\u001b[0;34m\u001b[0m\u001b[0;34m\u001b[0m\u001b[0m\n\u001b[1;32m    488\u001b[0m         \u001b[0;32melse\u001b[0m\u001b[0;34m:\u001b[0m\u001b[0;34m\u001b[0m\u001b[0;34m\u001b[0m\u001b[0m\n\u001b[0;32m--> 489\u001b[0;31m             \u001b[0mresult\u001b[0m \u001b[0;34m=\u001b[0m \u001b[0mself\u001b[0m\u001b[0;34m.\u001b[0m\u001b[0mforward\u001b[0m\u001b[0;34m(\u001b[0m\u001b[0;34m*\u001b[0m\u001b[0minput\u001b[0m\u001b[0;34m,\u001b[0m \u001b[0;34m**\u001b[0m\u001b[0mkwargs\u001b[0m\u001b[0;34m)\u001b[0m\u001b[0;34m\u001b[0m\u001b[0;34m\u001b[0m\u001b[0m\n\u001b[0m\u001b[1;32m    490\u001b[0m         \u001b[0;32mfor\u001b[0m \u001b[0mhook\u001b[0m \u001b[0;32min\u001b[0m \u001b[0mself\u001b[0m\u001b[0;34m.\u001b[0m\u001b[0m_forward_hooks\u001b[0m\u001b[0;34m.\u001b[0m\u001b[0mvalues\u001b[0m\u001b[0;34m(\u001b[0m\u001b[0;34m)\u001b[0m\u001b[0;34m:\u001b[0m\u001b[0;34m\u001b[0m\u001b[0;34m\u001b[0m\u001b[0m\n\u001b[1;32m    491\u001b[0m             \u001b[0mhook_result\u001b[0m \u001b[0;34m=\u001b[0m \u001b[0mhook\u001b[0m\u001b[0;34m(\u001b[0m\u001b[0mself\u001b[0m\u001b[0;34m,\u001b[0m \u001b[0minput\u001b[0m\u001b[0;34m,\u001b[0m \u001b[0mresult\u001b[0m\u001b[0;34m)\u001b[0m\u001b[0;34m\u001b[0m\u001b[0;34m\u001b[0m\u001b[0m\n",
      "\u001b[0;32m/home/simranjit/anaconda3/lib/python3.6/site-packages/torch/nn/modules/batchnorm.py\u001b[0m in \u001b[0;36mforward\u001b[0;34m(self, input)\u001b[0m\n\u001b[1;32m     74\u001b[0m             \u001b[0minput\u001b[0m\u001b[0;34m,\u001b[0m \u001b[0mself\u001b[0m\u001b[0;34m.\u001b[0m\u001b[0mrunning_mean\u001b[0m\u001b[0;34m,\u001b[0m \u001b[0mself\u001b[0m\u001b[0;34m.\u001b[0m\u001b[0mrunning_var\u001b[0m\u001b[0;34m,\u001b[0m \u001b[0mself\u001b[0m\u001b[0;34m.\u001b[0m\u001b[0mweight\u001b[0m\u001b[0;34m,\u001b[0m \u001b[0mself\u001b[0m\u001b[0;34m.\u001b[0m\u001b[0mbias\u001b[0m\u001b[0;34m,\u001b[0m\u001b[0;34m\u001b[0m\u001b[0;34m\u001b[0m\u001b[0m\n\u001b[1;32m     75\u001b[0m             \u001b[0mself\u001b[0m\u001b[0;34m.\u001b[0m\u001b[0mtraining\u001b[0m \u001b[0;32mor\u001b[0m \u001b[0;32mnot\u001b[0m \u001b[0mself\u001b[0m\u001b[0;34m.\u001b[0m\u001b[0mtrack_running_stats\u001b[0m\u001b[0;34m,\u001b[0m\u001b[0;34m\u001b[0m\u001b[0;34m\u001b[0m\u001b[0m\n\u001b[0;32m---> 76\u001b[0;31m             exponential_average_factor, self.eps)\n\u001b[0m\u001b[1;32m     77\u001b[0m \u001b[0;34m\u001b[0m\u001b[0m\n\u001b[1;32m     78\u001b[0m     \u001b[0;32mdef\u001b[0m \u001b[0mextra_repr\u001b[0m\u001b[0;34m(\u001b[0m\u001b[0mself\u001b[0m\u001b[0;34m)\u001b[0m\u001b[0;34m:\u001b[0m\u001b[0;34m\u001b[0m\u001b[0;34m\u001b[0m\u001b[0m\n",
      "\u001b[0;32m/home/simranjit/anaconda3/lib/python3.6/site-packages/torch/nn/functional.py\u001b[0m in \u001b[0;36mbatch_norm\u001b[0;34m(input, running_mean, running_var, weight, bias, training, momentum, eps)\u001b[0m\n\u001b[1;32m   1621\u001b[0m     return torch.batch_norm(\n\u001b[1;32m   1622\u001b[0m         \u001b[0minput\u001b[0m\u001b[0;34m,\u001b[0m \u001b[0mweight\u001b[0m\u001b[0;34m,\u001b[0m \u001b[0mbias\u001b[0m\u001b[0;34m,\u001b[0m \u001b[0mrunning_mean\u001b[0m\u001b[0;34m,\u001b[0m \u001b[0mrunning_var\u001b[0m\u001b[0;34m,\u001b[0m\u001b[0;34m\u001b[0m\u001b[0;34m\u001b[0m\u001b[0m\n\u001b[0;32m-> 1623\u001b[0;31m         \u001b[0mtraining\u001b[0m\u001b[0;34m,\u001b[0m \u001b[0mmomentum\u001b[0m\u001b[0;34m,\u001b[0m \u001b[0meps\u001b[0m\u001b[0;34m,\u001b[0m \u001b[0mtorch\u001b[0m\u001b[0;34m.\u001b[0m\u001b[0mbackends\u001b[0m\u001b[0;34m.\u001b[0m\u001b[0mcudnn\u001b[0m\u001b[0;34m.\u001b[0m\u001b[0menabled\u001b[0m\u001b[0;34m\u001b[0m\u001b[0;34m\u001b[0m\u001b[0m\n\u001b[0m\u001b[1;32m   1624\u001b[0m     )\n\u001b[1;32m   1625\u001b[0m \u001b[0;34m\u001b[0m\u001b[0m\n",
      "\u001b[0;31mKeyboardInterrupt\u001b[0m: "
     ]
    }
   ],
   "source": [
    "attack = OPT_attack_lsq(amodel)\n",
    "adv_lsq, dist_lsq = attack(X0.cuda(), Y0.cuda(), distortion=d0)\n",
    "plot_adv(X0, adv_lsq)"
   ]
  },
  {
   "cell_type": "markdown",
   "metadata": {},
   "source": [
    "###  Polar coordinates: Original Randomized Gradient Free optimization"
   ]
  },
  {
   "cell_type": "code",
   "execution_count": 3,
   "metadata": {
    "collapsed": false
   },
   "outputs": [
    {
     "name": "stderr",
     "output_type": "stream",
     "text": [
      "/home/simranjit/blackbox/attackbox-master/models.py:26: UserWarning: volatile was removed and now has no effect. Use `with torch.no_grad():` instead.\n",
      "  image = Variable(image, volatile=True) # ?? not supported by latest pytorch\n"
     ]
    },
    {
     "name": "stdout",
     "output_type": "stream",
     "text": [
      "Searching for the initial direction on 100 random directions: \n",
      "--------> Found distortion 9.3599\n",
      "--------> Found distortion 7.9540\n",
      "--------> Found distortion 7.9164\n",
      "--------> Found distortion 7.4414\n",
      "==========> Found best distortion 7.4414 in 0.4024 seconds using 278 queries\n",
      "Iteration  50: g(theta + beta*u) = 2.78794929 g(theta) = 2.7880 distortion 2.78799013 num_queries 11441\n",
      "Iteration 100: g(theta + beta*u) = 2.04315996 g(theta) = 2.0432 distortion 2.04321608 num_queries 21058\n",
      "Iteration 150: g(theta + beta*u) = 1.75980538 g(theta) = 1.7598 distortion 1.75982256 num_queries 30518\n",
      "Iteration 200: g(theta + beta*u) = 1.60864118 g(theta) = 1.6087 distortion 1.60865100 num_queries 39711\n",
      "Iteration 250: g(theta + beta*u) = 1.51528060 g(theta) = 1.5153 distortion 1.51526765 num_queries 48462\n",
      "Iteration 300: g(theta + beta*u) = 1.46450895 g(theta) = 1.4645 distortion 1.46450716 num_queries 57174\n",
      "Iteration 350: g(theta + beta*u) = 1.43600352 g(theta) = 1.4360 distortion 1.43600177 num_queries 65816\n",
      "Iteration 400: g(theta + beta*u) = 1.41752195 g(theta) = 1.4175 distortion 1.41752541 num_queries 74558\n",
      "Iteration 450: g(theta + beta*u) = 1.40443050 g(theta) = 1.4044 distortion 1.40442193 num_queries 83238\n",
      "Iteration 500: g(theta + beta*u) = 1.39757726 g(theta) = 1.3976 distortion 1.39756702 num_queries 91988\n",
      "success\n",
      "\n",
      "Adversarial Example Found Successfully: distortion 1.3976 target 9 queries 92266 \n",
      "Time: 136.7107 seconds\n"
     ]
    }
   ],
   "source": [
    "attack = OPT_attack_polar(amodel)\n",
    "adv = attack(X0.cuda(), Y0.cuda())"
   ]
  },
  {
   "cell_type": "markdown",
   "metadata": {},
   "source": [
    "### Polar with gradient bias"
   ]
  },
  {
   "cell_type": "code",
   "execution_count": 5,
   "metadata": {
    "collapsed": false
   },
   "outputs": [
    {
     "name": "stderr",
     "output_type": "stream",
     "text": [
      "/home/simranjit/blackbox/attackbox-master/models.py:26: UserWarning: volatile was removed and now has no effect. Use `with torch.no_grad():` instead.\n",
      "  image = Variable(image, volatile=True) # ?? not supported by latest pytorch\n"
     ]
    },
    {
     "name": "stdout",
     "output_type": "stream",
     "text": [
      "Searching for the initial direction on 100 random directions: \n",
      "--------> Found distortion 10.7166\n",
      "--------> Found distortion 9.0882\n",
      "--------> Found distortion 9.0443\n",
      "--------> Found distortion 8.9503\n",
      "--------> Found distortion 7.8088\n",
      "--------> Found distortion 7.6667\n",
      "==========> Found best distortion 7.6667 in 0.4274 seconds using 317 queries\n",
      "Iteration   1: g(theta + beta*u) = 7.69211076 g(theta) = 7.6667 distortion 7.66672736 num_queries 170 grad_queries 13311 total_queries 13481\n",
      "Iteration   2: g(theta + beta*u) = 3.72509454 g(theta) = 3.7233 distortion 3.72327086 num_queries 714 grad_queries 25839 total_queries 26553\n",
      "Iteration   3: g(theta + beta*u) = 2.84039257 g(theta) = 2.8400 distortion 2.84004068 num_queries 999 grad_queries 37584 total_queries 38583\n",
      "Iteration   4: g(theta + beta*u) = 2.58325724 g(theta) = 2.5829 distortion 2.58288835 num_queries 1197 grad_queries 49329 total_queries 50526\n",
      "Iteration   5: g(theta + beta*u) = 2.49771851 g(theta) = 2.4976 distortion 2.49756607 num_queries 1407 grad_queries 61074 total_queries 62481\n",
      "Iteration   6: g(theta + beta*u) = 2.43758610 g(theta) = 2.4374 distortion 2.43744179 num_queries 1601 grad_queries 72819 total_queries 74420\n",
      "Iteration   7: g(theta + beta*u) = 2.36970980 g(theta) = 2.3697 distortion 2.36965484 num_queries 1853 grad_queries 84564 total_queries 86417\n",
      "Iteration   8: g(theta + beta*u) = 2.31520548 g(theta) = 2.3151 distortion 2.31509809 num_queries 2037 grad_queries 96309 total_queries 98346\n",
      "Iteration   9: g(theta + beta*u) = 2.25588479 g(theta) = 2.2558 distortion 2.25582008 num_queries 2225 grad_queries 108054 total_queries 110279\n",
      "Iteration  10: g(theta + beta*u) = 2.19482628 g(theta) = 2.1948 distortion 2.19475261 num_queries 2414 grad_queries 119799 total_queries 122213\n",
      "Iteration  11: g(theta + beta*u) = 2.15712435 g(theta) = 2.1570 distortion 2.15702298 num_queries 2637 grad_queries 131544 total_queries 134181\n",
      "Iteration  12: g(theta + beta*u) = 2.12940487 g(theta) = 2.1294 distortion 2.12937628 num_queries 2819 grad_queries 143289 total_queries 146108\n",
      "Iteration  13: g(theta + beta*u) = 2.10515242 g(theta) = 2.1051 distortion 2.10512159 num_queries 3003 grad_queries 155034 total_queries 158037\n",
      "Iteration  14: g(theta + beta*u) = 2.08444945 g(theta) = 2.0843 distortion 2.08432477 num_queries 3183 grad_queries 166779 total_queries 169962\n",
      "Iteration  15: g(theta + beta*u) = 2.06524382 g(theta) = 2.0651 distortion 2.06514298 num_queries 3391 grad_queries 178524 total_queries 181915\n"
     ]
    },
    {
     "ename": "KeyboardInterrupt",
     "evalue": "",
     "output_type": "error",
     "traceback": [
      "\u001b[0;31m---------------------------------------------------------------------------\u001b[0m",
      "\u001b[0;31mKeyboardInterrupt\u001b[0m                         Traceback (most recent call last)",
      "\u001b[0;32m<ipython-input-5-d15857f2578a>\u001b[0m in \u001b[0;36m<module>\u001b[0;34m()\u001b[0m\n\u001b[1;32m      1\u001b[0m \u001b[0mattack\u001b[0m \u001b[0;34m=\u001b[0m \u001b[0mOPT_attack_polar\u001b[0m\u001b[0;34m(\u001b[0m\u001b[0mamodel\u001b[0m\u001b[0;34m,\u001b[0m \u001b[0mgradient_bias\u001b[0m\u001b[0;34m=\u001b[0m\u001b[0;32mTrue\u001b[0m\u001b[0;34m)\u001b[0m\u001b[0;34m\u001b[0m\u001b[0;34m\u001b[0m\u001b[0m\n\u001b[0;32m----> 2\u001b[0;31m \u001b[0madv\u001b[0m \u001b[0;34m=\u001b[0m \u001b[0mattack\u001b[0m\u001b[0;34m(\u001b[0m\u001b[0mX0\u001b[0m\u001b[0;34m.\u001b[0m\u001b[0mcuda\u001b[0m\u001b[0;34m(\u001b[0m\u001b[0;34m)\u001b[0m\u001b[0;34m,\u001b[0m \u001b[0mY0\u001b[0m\u001b[0;34m.\u001b[0m\u001b[0mcuda\u001b[0m\u001b[0;34m(\u001b[0m\u001b[0;34m)\u001b[0m\u001b[0;34m)\u001b[0m\u001b[0;34m\u001b[0m\u001b[0;34m\u001b[0m\u001b[0m\n\u001b[0m",
      "\u001b[0;32m/home/simranjit/blackbox/attackbox-master/OPT_attack_polar.py\u001b[0m in \u001b[0;36m__call__\u001b[0;34m(self, input_xi, label_or_target, TARGETED)\u001b[0m\n\u001b[1;32m    349\u001b[0m             \u001b[0mprint\u001b[0m\u001b[0;34m(\u001b[0m\u001b[0;34m\"Not Implemented.\"\u001b[0m\u001b[0;34m)\u001b[0m\u001b[0;34m\u001b[0m\u001b[0;34m\u001b[0m\u001b[0m\n\u001b[1;32m    350\u001b[0m         \u001b[0;32melse\u001b[0m\u001b[0;34m:\u001b[0m\u001b[0;34m\u001b[0m\u001b[0;34m\u001b[0m\u001b[0m\n\u001b[0;32m--> 351\u001b[0;31m             \u001b[0madv\u001b[0m \u001b[0;34m=\u001b[0m \u001b[0mself\u001b[0m\u001b[0;34m.\u001b[0m\u001b[0mattack_untargeted\u001b[0m\u001b[0;34m(\u001b[0m\u001b[0minput_xi\u001b[0m\u001b[0;34m,\u001b[0m \u001b[0mlabel_or_target\u001b[0m\u001b[0;34m)\u001b[0m\u001b[0;34m\u001b[0m\u001b[0;34m\u001b[0m\u001b[0m\n\u001b[0m\u001b[1;32m    352\u001b[0m         \u001b[0;32mreturn\u001b[0m \u001b[0madv\u001b[0m\u001b[0;34m\u001b[0m\u001b[0;34m\u001b[0m\u001b[0m\n\u001b[1;32m    353\u001b[0m \u001b[0;34m\u001b[0m\u001b[0m\n",
      "\u001b[0;32m/home/simranjit/blackbox/attackbox-master/OPT_attack_polar.py\u001b[0m in \u001b[0;36mattack_untargeted\u001b[0;34m(self, x0, y0, alpha, beta, iterations)\u001b[0m\n\u001b[1;32m     64\u001b[0m \u001b[0;34m\u001b[0m\u001b[0m\n\u001b[1;32m     65\u001b[0m             \u001b[0;32mif\u001b[0m \u001b[0mself\u001b[0m\u001b[0;34m.\u001b[0m\u001b[0mgradient_bias\u001b[0m\u001b[0;34m:\u001b[0m\u001b[0;34m\u001b[0m\u001b[0;34m\u001b[0m\u001b[0m\n\u001b[0;32m---> 66\u001b[0;31m                 \u001b[0mreal_gradient\u001b[0m\u001b[0;34m,\u001b[0m \u001b[0mg_queries\u001b[0m \u001b[0;34m=\u001b[0m \u001b[0mself\u001b[0m\u001b[0;34m.\u001b[0m\u001b[0meval_grad\u001b[0m\u001b[0;34m(\u001b[0m\u001b[0mmodel\u001b[0m\u001b[0;34m,\u001b[0m \u001b[0mx0\u001b[0m\u001b[0;34m,\u001b[0m \u001b[0my0\u001b[0m\u001b[0;34m,\u001b[0m \u001b[0mtheta_polar\u001b[0m\u001b[0;34m,\u001b[0m \u001b[0minitial_lbd\u001b[0m \u001b[0;34m=\u001b[0m \u001b[0mg2\u001b[0m\u001b[0;34m,\u001b[0m \u001b[0mtol\u001b[0m\u001b[0;34m=\u001b[0m\u001b[0mbeta\u001b[0m\u001b[0;34m/\u001b[0m\u001b[0;36m500\u001b[0m\u001b[0;34m)\u001b[0m\u001b[0;34m\u001b[0m\u001b[0;34m\u001b[0m\u001b[0m\n\u001b[0m\u001b[1;32m     67\u001b[0m                 \u001b[0mgrad_queries\u001b[0m \u001b[0;34m+=\u001b[0m \u001b[0mg_queries\u001b[0m\u001b[0;34m\u001b[0m\u001b[0;34m\u001b[0m\u001b[0m\n\u001b[1;32m     68\u001b[0m \u001b[0;34m\u001b[0m\u001b[0m\n",
      "\u001b[0;32m/home/simranjit/blackbox/attackbox-master/OPT_attack_polar.py\u001b[0m in \u001b[0;36meval_grad\u001b[0;34m(self, model, x0, y0, theta_polar, initial_lbd, tol, h)\u001b[0m\n\u001b[1;32m    268\u001b[0m             \u001b[0mx\u001b[0m\u001b[0;34m[\u001b[0m\u001b[0mix\u001b[0m\u001b[0;34m]\u001b[0m \u001b[0;34m=\u001b[0m \u001b[0moldval\u001b[0m \u001b[0;34m+\u001b[0m \u001b[0mh\u001b[0m \u001b[0;31m# increment by h\u001b[0m\u001b[0;34m\u001b[0m\u001b[0;34m\u001b[0m\u001b[0m\n\u001b[1;32m    269\u001b[0m             \u001b[0mtheta\u001b[0m \u001b[0;34m=\u001b[0m \u001b[0mself\u001b[0m\u001b[0;34m.\u001b[0m\u001b[0mpolar_to_ct\u001b[0m\u001b[0;34m(\u001b[0m\u001b[0mx\u001b[0m\u001b[0;34m)\u001b[0m\u001b[0;34m.\u001b[0m\u001b[0mreshape\u001b[0m\u001b[0;34m(\u001b[0m\u001b[0;34m*\u001b[0m\u001b[0mx0\u001b[0m\u001b[0;34m.\u001b[0m\u001b[0mshape\u001b[0m\u001b[0;34m)\u001b[0m\u001b[0;34m\u001b[0m\u001b[0;34m\u001b[0m\u001b[0m\n\u001b[0;32m--> 270\u001b[0;31m             \u001b[0mfxph\u001b[0m\u001b[0;34m,\u001b[0m \u001b[0mq1\u001b[0m \u001b[0;34m=\u001b[0m \u001b[0mself\u001b[0m\u001b[0;34m.\u001b[0m\u001b[0mfine_grained_binary_search_local\u001b[0m\u001b[0;34m(\u001b[0m\u001b[0mmodel\u001b[0m\u001b[0;34m,\u001b[0m \u001b[0mx0\u001b[0m\u001b[0;34m,\u001b[0m \u001b[0my0\u001b[0m\u001b[0;34m,\u001b[0m \u001b[0mtheta\u001b[0m\u001b[0;34m,\u001b[0m \u001b[0minitial_lbd\u001b[0m \u001b[0;34m=\u001b[0m \u001b[0minitial_lbd\u001b[0m\u001b[0;34m,\u001b[0m \u001b[0mtol\u001b[0m\u001b[0;34m=\u001b[0m\u001b[0mh\u001b[0m\u001b[0;34m/\u001b[0m\u001b[0;36m500\u001b[0m\u001b[0;34m)\u001b[0m\u001b[0;34m\u001b[0m\u001b[0;34m\u001b[0m\u001b[0m\n\u001b[0m\u001b[1;32m    271\u001b[0m             \u001b[0mqueries\u001b[0m \u001b[0;34m+=\u001b[0m \u001b[0mq1\u001b[0m\u001b[0;34m\u001b[0m\u001b[0;34m\u001b[0m\u001b[0m\n\u001b[1;32m    272\u001b[0m             \u001b[0;31m# x[ix] = oldval - h\u001b[0m\u001b[0;34m\u001b[0m\u001b[0;34m\u001b[0m\u001b[0;34m\u001b[0m\u001b[0m\n",
      "\u001b[0;32m/home/simranjit/blackbox/attackbox-master/OPT_attack_polar.py\u001b[0m in \u001b[0;36mfine_grained_binary_search_local\u001b[0;34m(self, model, x0, y0, theta, initial_lbd, tol)\u001b[0m\n\u001b[1;32m    226\u001b[0m             \u001b[0mlbd_mid\u001b[0m \u001b[0;34m=\u001b[0m \u001b[0;34m(\u001b[0m\u001b[0mlbd_lo\u001b[0m \u001b[0;34m+\u001b[0m \u001b[0mlbd_hi\u001b[0m\u001b[0;34m)\u001b[0m\u001b[0;34m/\u001b[0m\u001b[0;36m2.0\u001b[0m\u001b[0;34m\u001b[0m\u001b[0;34m\u001b[0m\u001b[0m\n\u001b[1;32m    227\u001b[0m             \u001b[0mnquery\u001b[0m \u001b[0;34m+=\u001b[0m \u001b[0;36m1\u001b[0m\u001b[0;34m\u001b[0m\u001b[0;34m\u001b[0m\u001b[0m\n\u001b[0;32m--> 228\u001b[0;31m             \u001b[0;32mif\u001b[0m \u001b[0mmodel\u001b[0m\u001b[0;34m.\u001b[0m\u001b[0mpredict_label\u001b[0m\u001b[0;34m(\u001b[0m\u001b[0mx0\u001b[0m \u001b[0;34m+\u001b[0m \u001b[0mtorch\u001b[0m\u001b[0;34m.\u001b[0m\u001b[0mtensor\u001b[0m\u001b[0;34m(\u001b[0m\u001b[0mlbd_mid\u001b[0m\u001b[0;34m*\u001b[0m\u001b[0mtheta\u001b[0m\u001b[0;34m,\u001b[0m \u001b[0mdtype\u001b[0m\u001b[0;34m=\u001b[0m\u001b[0mtorch\u001b[0m\u001b[0;34m.\u001b[0m\u001b[0mfloat\u001b[0m\u001b[0;34m)\u001b[0m\u001b[0;34m.\u001b[0m\u001b[0mcuda\u001b[0m\u001b[0;34m(\u001b[0m\u001b[0;34m)\u001b[0m\u001b[0;34m)\u001b[0m \u001b[0;34m!=\u001b[0m \u001b[0my0\u001b[0m\u001b[0;34m:\u001b[0m\u001b[0;34m\u001b[0m\u001b[0;34m\u001b[0m\u001b[0m\n\u001b[0m\u001b[1;32m    229\u001b[0m                 \u001b[0mlbd_hi\u001b[0m \u001b[0;34m=\u001b[0m \u001b[0mlbd_mid\u001b[0m\u001b[0;34m\u001b[0m\u001b[0;34m\u001b[0m\u001b[0m\n\u001b[1;32m    230\u001b[0m             \u001b[0;32melse\u001b[0m\u001b[0;34m:\u001b[0m\u001b[0;34m\u001b[0m\u001b[0;34m\u001b[0m\u001b[0m\n",
      "\u001b[0;32m/home/simranjit/blackbox/attackbox-master/models.py\u001b[0m in \u001b[0;36mpredict_label\u001b[0;34m(self, image)\u001b[0m\n\u001b[1;32m     25\u001b[0m             \u001b[0mimage\u001b[0m \u001b[0;34m=\u001b[0m \u001b[0mimage\u001b[0m\u001b[0;34m.\u001b[0m\u001b[0munsqueeze\u001b[0m\u001b[0;34m(\u001b[0m\u001b[0;36m0\u001b[0m\u001b[0;34m)\u001b[0m\u001b[0;34m\u001b[0m\u001b[0;34m\u001b[0m\u001b[0m\n\u001b[1;32m     26\u001b[0m         \u001b[0mimage\u001b[0m \u001b[0;34m=\u001b[0m \u001b[0mVariable\u001b[0m\u001b[0;34m(\u001b[0m\u001b[0mimage\u001b[0m\u001b[0;34m,\u001b[0m \u001b[0mvolatile\u001b[0m\u001b[0;34m=\u001b[0m\u001b[0;32mTrue\u001b[0m\u001b[0;34m)\u001b[0m \u001b[0;31m# ?? not supported by latest pytorch\u001b[0m\u001b[0;34m\u001b[0m\u001b[0;34m\u001b[0m\u001b[0m\n\u001b[0;32m---> 27\u001b[0;31m         \u001b[0moutput\u001b[0m \u001b[0;34m=\u001b[0m \u001b[0mself\u001b[0m\u001b[0;34m.\u001b[0m\u001b[0mmodel\u001b[0m\u001b[0;34m(\u001b[0m\u001b[0mimage\u001b[0m\u001b[0;34m)\u001b[0m\u001b[0;34m\u001b[0m\u001b[0;34m\u001b[0m\u001b[0m\n\u001b[0m\u001b[1;32m     28\u001b[0m         \u001b[0;31m#image = Variable(image, volatile=True) # ?? not supported by latest pytorch\u001b[0m\u001b[0;34m\u001b[0m\u001b[0;34m\u001b[0m\u001b[0;34m\u001b[0m\u001b[0m\n\u001b[1;32m     29\u001b[0m         \u001b[0m_\u001b[0m\u001b[0;34m,\u001b[0m \u001b[0mpredict\u001b[0m \u001b[0;34m=\u001b[0m \u001b[0mtorch\u001b[0m\u001b[0;34m.\u001b[0m\u001b[0mmax\u001b[0m\u001b[0;34m(\u001b[0m\u001b[0moutput\u001b[0m\u001b[0;34m.\u001b[0m\u001b[0mdata\u001b[0m\u001b[0;34m,\u001b[0m \u001b[0;36m1\u001b[0m\u001b[0;34m)\u001b[0m\u001b[0;34m\u001b[0m\u001b[0;34m\u001b[0m\u001b[0m\n",
      "\u001b[0;32m/home/simranjit/anaconda3/lib/python3.6/site-packages/torch/nn/modules/module.py\u001b[0m in \u001b[0;36m__call__\u001b[0;34m(self, *input, **kwargs)\u001b[0m\n\u001b[1;32m    487\u001b[0m             \u001b[0mresult\u001b[0m \u001b[0;34m=\u001b[0m \u001b[0mself\u001b[0m\u001b[0;34m.\u001b[0m\u001b[0m_slow_forward\u001b[0m\u001b[0;34m(\u001b[0m\u001b[0;34m*\u001b[0m\u001b[0minput\u001b[0m\u001b[0;34m,\u001b[0m \u001b[0;34m**\u001b[0m\u001b[0mkwargs\u001b[0m\u001b[0;34m)\u001b[0m\u001b[0;34m\u001b[0m\u001b[0;34m\u001b[0m\u001b[0m\n\u001b[1;32m    488\u001b[0m         \u001b[0;32melse\u001b[0m\u001b[0;34m:\u001b[0m\u001b[0;34m\u001b[0m\u001b[0;34m\u001b[0m\u001b[0m\n\u001b[0;32m--> 489\u001b[0;31m             \u001b[0mresult\u001b[0m \u001b[0;34m=\u001b[0m \u001b[0mself\u001b[0m\u001b[0;34m.\u001b[0m\u001b[0mforward\u001b[0m\u001b[0;34m(\u001b[0m\u001b[0;34m*\u001b[0m\u001b[0minput\u001b[0m\u001b[0;34m,\u001b[0m \u001b[0;34m**\u001b[0m\u001b[0mkwargs\u001b[0m\u001b[0;34m)\u001b[0m\u001b[0;34m\u001b[0m\u001b[0;34m\u001b[0m\u001b[0m\n\u001b[0m\u001b[1;32m    490\u001b[0m         \u001b[0;32mfor\u001b[0m \u001b[0mhook\u001b[0m \u001b[0;32min\u001b[0m \u001b[0mself\u001b[0m\u001b[0;34m.\u001b[0m\u001b[0m_forward_hooks\u001b[0m\u001b[0;34m.\u001b[0m\u001b[0mvalues\u001b[0m\u001b[0;34m(\u001b[0m\u001b[0;34m)\u001b[0m\u001b[0;34m:\u001b[0m\u001b[0;34m\u001b[0m\u001b[0;34m\u001b[0m\u001b[0m\n\u001b[1;32m    491\u001b[0m             \u001b[0mhook_result\u001b[0m \u001b[0;34m=\u001b[0m \u001b[0mhook\u001b[0m\u001b[0;34m(\u001b[0m\u001b[0mself\u001b[0m\u001b[0;34m,\u001b[0m \u001b[0minput\u001b[0m\u001b[0;34m,\u001b[0m \u001b[0mresult\u001b[0m\u001b[0;34m)\u001b[0m\u001b[0;34m\u001b[0m\u001b[0;34m\u001b[0m\u001b[0m\n",
      "\u001b[0;32m/home/simranjit/blackbox/attackbox-master/allmodels.py\u001b[0m in \u001b[0;36mforward\u001b[0;34m(self, x)\u001b[0m\n\u001b[1;32m    138\u001b[0m         \u001b[0mout\u001b[0m \u001b[0;34m=\u001b[0m \u001b[0mout\u001b[0m\u001b[0;34m.\u001b[0m\u001b[0mview\u001b[0m\u001b[0;34m(\u001b[0m\u001b[0mout\u001b[0m\u001b[0;34m.\u001b[0m\u001b[0msize\u001b[0m\u001b[0;34m(\u001b[0m\u001b[0;36m0\u001b[0m\u001b[0;34m)\u001b[0m\u001b[0;34m,\u001b[0m \u001b[0;34m-\u001b[0m\u001b[0;36m1\u001b[0m\u001b[0;34m)\u001b[0m\u001b[0;34m\u001b[0m\u001b[0;34m\u001b[0m\u001b[0m\n\u001b[1;32m    139\u001b[0m         \u001b[0mout\u001b[0m \u001b[0;34m=\u001b[0m \u001b[0mself\u001b[0m\u001b[0;34m.\u001b[0m\u001b[0mfc1\u001b[0m\u001b[0;34m(\u001b[0m\u001b[0mout\u001b[0m\u001b[0;34m)\u001b[0m\u001b[0;34m\u001b[0m\u001b[0;34m\u001b[0m\u001b[0m\n\u001b[0;32m--> 140\u001b[0;31m         \u001b[0mout\u001b[0m \u001b[0;34m=\u001b[0m \u001b[0mself\u001b[0m\u001b[0;34m.\u001b[0m\u001b[0mrelu\u001b[0m\u001b[0;34m(\u001b[0m\u001b[0mout\u001b[0m\u001b[0;34m)\u001b[0m\u001b[0;34m\u001b[0m\u001b[0;34m\u001b[0m\u001b[0m\n\u001b[0m\u001b[1;32m    141\u001b[0m         \u001b[0mout\u001b[0m \u001b[0;34m=\u001b[0m \u001b[0mself\u001b[0m\u001b[0;34m.\u001b[0m\u001b[0mdropout\u001b[0m\u001b[0;34m(\u001b[0m\u001b[0mout\u001b[0m\u001b[0;34m)\u001b[0m\u001b[0;34m\u001b[0m\u001b[0;34m\u001b[0m\u001b[0m\n\u001b[1;32m    142\u001b[0m         \u001b[0mout\u001b[0m \u001b[0;34m=\u001b[0m \u001b[0mself\u001b[0m\u001b[0;34m.\u001b[0m\u001b[0mfc2\u001b[0m\u001b[0;34m(\u001b[0m\u001b[0mout\u001b[0m\u001b[0;34m)\u001b[0m\u001b[0;34m\u001b[0m\u001b[0;34m\u001b[0m\u001b[0m\n",
      "\u001b[0;32m/home/simranjit/anaconda3/lib/python3.6/site-packages/torch/nn/modules/module.py\u001b[0m in \u001b[0;36m__call__\u001b[0;34m(self, *input, **kwargs)\u001b[0m\n\u001b[1;32m    484\u001b[0m         \u001b[0;32mfor\u001b[0m \u001b[0mhook\u001b[0m \u001b[0;32min\u001b[0m \u001b[0mself\u001b[0m\u001b[0;34m.\u001b[0m\u001b[0m_forward_pre_hooks\u001b[0m\u001b[0;34m.\u001b[0m\u001b[0mvalues\u001b[0m\u001b[0;34m(\u001b[0m\u001b[0;34m)\u001b[0m\u001b[0;34m:\u001b[0m\u001b[0;34m\u001b[0m\u001b[0;34m\u001b[0m\u001b[0m\n\u001b[1;32m    485\u001b[0m             \u001b[0mhook\u001b[0m\u001b[0;34m(\u001b[0m\u001b[0mself\u001b[0m\u001b[0;34m,\u001b[0m \u001b[0minput\u001b[0m\u001b[0;34m)\u001b[0m\u001b[0;34m\u001b[0m\u001b[0;34m\u001b[0m\u001b[0m\n\u001b[0;32m--> 486\u001b[0;31m         \u001b[0;32mif\u001b[0m \u001b[0mtorch\u001b[0m\u001b[0;34m.\u001b[0m\u001b[0m_C\u001b[0m\u001b[0;34m.\u001b[0m\u001b[0m_get_tracing_state\u001b[0m\u001b[0;34m(\u001b[0m\u001b[0;34m)\u001b[0m\u001b[0;34m:\u001b[0m\u001b[0;34m\u001b[0m\u001b[0;34m\u001b[0m\u001b[0m\n\u001b[0m\u001b[1;32m    487\u001b[0m             \u001b[0mresult\u001b[0m \u001b[0;34m=\u001b[0m \u001b[0mself\u001b[0m\u001b[0;34m.\u001b[0m\u001b[0m_slow_forward\u001b[0m\u001b[0;34m(\u001b[0m\u001b[0;34m*\u001b[0m\u001b[0minput\u001b[0m\u001b[0;34m,\u001b[0m \u001b[0;34m**\u001b[0m\u001b[0mkwargs\u001b[0m\u001b[0;34m)\u001b[0m\u001b[0;34m\u001b[0m\u001b[0;34m\u001b[0m\u001b[0m\n\u001b[1;32m    488\u001b[0m         \u001b[0;32melse\u001b[0m\u001b[0;34m:\u001b[0m\u001b[0;34m\u001b[0m\u001b[0;34m\u001b[0m\u001b[0m\n",
      "\u001b[0;31mKeyboardInterrupt\u001b[0m: "
     ]
    }
   ],
   "source": [
    "attack = OPT_attack_polar(amodel, gradient_bias=True)\n",
    "adv = attack(X0.cuda(), Y0.cuda())"
   ]
  },
  {
   "cell_type": "markdown",
   "metadata": {},
   "source": [
    "### Gradient Descent Least Squares - POLAR"
   ]
  },
  {
   "cell_type": "code",
   "execution_count": null,
   "metadata": {
    "collapsed": false
   },
   "outputs": [
    {
     "name": "stderr",
     "output_type": "stream",
     "text": [
      "/home/simranjit/blackbox/attackbox-master/models.py:26: UserWarning: volatile was removed and now has no effect. Use `with torch.no_grad():` instead.\n",
      "  image = Variable(image, volatile=True) # ?? not supported by latest pytorch\n"
     ]
    },
    {
     "name": "stdout",
     "output_type": "stream",
     "text": [
      "Running gradient descent with learning rate  0.01\n",
      "Searching for the initial direction on 100 random directions: \n",
      "--------> Found distortion 9.1506\n",
      "--------> Found distortion 7.7997\n",
      "--------> Found distortion 7.4634\n",
      "==========> Found best distortion 7.4634 in 0.3991 seconds using 259 queries\n",
      "Numerical - Approx gradient cosine distance: 0.5334463110422887, Distance moved: 0.14991986971585872\n",
      "Iteration:  0  Distortion:  5.99790873127015  Queries:  5384\n",
      "Numerical - Approx gradient cosine distance: 0.21909010602390366, Distance moved: 0.12717967491055976\n",
      "Iteration:  1  Distortion:  5.081077735416738  Queries:  10503\n",
      "Numerical - Approx gradient cosine distance: 0.19977321574276885, Distance moved: 0.08578149317792327\n",
      "Iteration:  2  Distortion:  4.595906534922734  Queries:  15614\n",
      "Numerical - Approx gradient cosine distance: 0.14901922655324196, Distance moved: 0.06578151899909716\n",
      "Iteration:  3  Distortion:  4.269898387573788  Queries:  20723\n",
      "Numerical - Approx gradient cosine distance: 0.11203128667225926, Distance moved: 0.05602281013269431\n",
      "Iteration:  4  Distortion:  4.000409377734574  Queries:  25831\n"
     ]
    }
   ],
   "source": [
    "attack = OPT_attack_polar_lsq(amodel)\n",
    "adv = attack(X0.cuda(), Y0.cuda())"
   ]
  },
  {
   "cell_type": "markdown",
   "metadata": {},
   "source": [
    "### Polar gradient descent"
   ]
  },
  {
   "cell_type": "code",
   "execution_count": null,
   "metadata": {
    "collapsed": false,
    "scrolled": true
   },
   "outputs": [],
   "source": [
    "attack = OPT_attack_polar_GD(amodel)\n",
    "adv = attack(X0.cuda(), Y0.cuda())"
   ]
  },
  {
   "cell_type": "markdown",
   "metadata": {},
   "source": [
    "### Conversion from cartesian to polar coordinates\n",
    "We may define a coordinate system in an n-dimensional Euclidean space which is analogous to the spherical coordinate system defined for 3-dimensional Euclidean space, in which the coordinates consist of a radial coordinate r, and n − 1 angular coordinates φ1, φ2, ... φn−1, where the angles φ1, φ2, ... φn−2 range over [0,π] radians (or over [0,180] degrees) and φn−1 ranges over [0,2π) radians (or over [0,360) degrees). If xi are the Cartesian coordinates, then we may compute x1, ... xn from r, φ1, ... φn−1 with:\n",
    "<img src=\"https://wikimedia.org/api/rest_v1/media/math/render/svg/0c4349e9ce260f719ebf573067bc7b84305ae31c\">\n",
    "<img src=\"https://upload.wikimedia.org/wikipedia/commons/thumb/4/4f/3D_Spherical.svg/480px-3D_Spherical.svg.png\">"
   ]
  },
  {
   "cell_type": "code",
   "execution_count": 6,
   "metadata": {
    "collapsed": true
   },
   "outputs": [],
   "source": [
    "def polar_to_ct(r, arr):\n",
    "    a = np.concatenate((np.array([2*np.pi]), arr))\n",
    "    si = np.sin(a)\n",
    "    si[0] = 1\n",
    "    si = np.cumprod(si)\n",
    "    co = np.cos(a)\n",
    "    co = np.roll(co, -1)\n",
    "    return si*co*r"
   ]
  },
  {
   "cell_type": "code",
   "execution_count": 16,
   "metadata": {
    "collapsed": false
   },
   "outputs": [
    {
     "name": "stdout",
     "output_type": "stream",
     "text": [
      "[  9.80066578e-01  -1.40480431e-01  -9.93346654e-02  -6.08249400e-18\n",
      "  -9.93346654e-02]\n"
     ]
    }
   ],
   "source": [
    "import numpy as np\n",
    "print(polar_to_ct(1, [-0.2, np.pi/4, np.pi/4, np.pi/2]))"
   ]
  },
  {
   "cell_type": "code",
   "execution_count": 20,
   "metadata": {
    "collapsed": false
   },
   "outputs": [],
   "source": [
    "def ct_to_polar(arr, eps=1e-5):\n",
    "    arr = np.array(arr)\n",
    "    arr2 = arr**2 + eps\n",
    "    r = np.sqrt(np.sum(arr2))\n",
    "    arr2 = np.flip(np.cumsum(np.flip(arr2, axis=0)), axis=0)\n",
    "    arr2 = np.sqrt(arr2)\n",
    "    phi = np.arccos((arr/arr2)[:-1])\n",
    "    if arr[-1] < 0:\n",
    "        phi[-1] = 2*np.pi - phi[-1]\n",
    "    # phi = np.concatenate((np.array([r]), phi))\n",
    "    return r, phi"
   ]
  },
  {
   "cell_type": "code",
   "execution_count": 21,
   "metadata": {
    "collapsed": false
   },
   "outputs": [
    {
     "name": "stdout",
     "output_type": "stream",
     "text": [
      "(1.0000249998409219, array([ 0.20012329,  2.35568828,  2.35543556,  4.71238898]))\n"
     ]
    }
   ],
   "source": [
    "print(ct_to_polar([9.80066578e-01,-1.40480431e-01,-9.93346654e-02,-6.08249400e-18,-9.93346654e-02]))"
   ]
  },
  {
   "cell_type": "code",
   "execution_count": 13,
   "metadata": {
    "collapsed": false
   },
   "outputs": [
    {
     "name": "stdout",
     "output_type": "stream",
     "text": [
      "[4.71238898038469, -0.000501836602551764, -0.0007518366025517365, 9.632679489657292e-05]\n"
     ]
    }
   ],
   "source": [
    "print([1.5*np.pi, np.pi/4 - 0.7859, np.pi/4 - 0.78615, np.pi/2 - 1.5707])"
   ]
  },
  {
   "cell_type": "code",
   "execution_count": 18,
   "metadata": {
    "collapsed": false
   },
   "outputs": [
    {
     "name": "stdout",
     "output_type": "stream",
     "text": [
      "[4.71238898038469, -1.5702018366025516, -1.5700018366025517, -3.141203673205103]\n"
     ]
    }
   ],
   "source": [
    "print([1.5*np.pi, np.pi/4 - 2.3556, np.pi/4 - 2.3554, np.pi/2 - 4.712])"
   ]
  }
 ],
 "metadata": {
  "kernelspec": {
   "display_name": "Python 3",
   "language": "python",
   "name": "python3"
  },
  "language_info": {
   "codemirror_mode": {
    "name": "ipython",
    "version": 3
   },
   "file_extension": ".py",
   "mimetype": "text/x-python",
   "name": "python",
   "nbconvert_exporter": "python",
   "pygments_lexer": "ipython3",
   "version": "3.6.8"
  }
 },
 "nbformat": 4,
 "nbformat_minor": 2
}
