{
 "cells": [
  {
   "cell_type": "code",
   "execution_count": 1,
   "metadata": {},
   "outputs": [],
   "source": [
    "import os\n",
    "import sys\n",
    "os.environ[\"CUDA_DEVICE_ORDER\"]=\"PCI_BUS_ID\"\n",
    "os.environ[\"CUDA_VISIBLE_DEVICES\"]=\"3\";\n",
    "\n",
    "\n",
    "%load_ext autoreload\n",
    "%autoreload 2\n",
    "from CW import CW\n",
    "from FGSM import FGSM\n",
    "from OPT_attack import OPT_attack\n",
    "from OPT_attack_polar import OPT_attack_polar\n",
    "from OPT_attack_polar_GD import OPT_attack_polar_GD\n",
    "from OPT_attack_lsq import OPT_attack_lsq\n",
    "from OPT_attack_polar_lsq import OPT_attack_polar_lsq\n",
    "from OPT_attack_GD import OPT_attack_GD\n",
    "from OPT_genattack import OPT_genattack\n",
    "from OPT_attack_sign_SGD import OPT_attack_sign_SGD\n",
    "from OPT_attack_sign_SGD_lf import OPT_attack_sign_SGD_lf\n",
    "from ZOO import ZOO\n",
    "from OPT_attack_lf import OPT_attack_lf\n",
    "from nes_attack import NES\n",
    "from models import PytorchModel\n",
    "import torch\n",
    "from allmodels import MNIST, load_model, load_mnist_data, load_cifar10_data, CIFAR10\n",
    "import os\n",
    "import numpy as np\n",
    "import matplotlib.pyplot as plt"
   ]
  },
  {
   "cell_type": "code",
   "execution_count": 2,
   "metadata": {},
   "outputs": [
    {
     "name": "stdout",
     "output_type": "stream",
     "text": [
      "Files already downloaded and verified\n",
      "Files already downloaded and verified\n",
      "tensor([3])\n",
      "tensor([8])\n",
      "tensor([8])\n",
      "tensor([0])\n",
      "tensor([6])\n",
      "tensor([6])\n",
      "tensor([1])\n",
      "tensor([6])\n",
      "tensor([3])\n",
      "tensor([1])\n",
      "tensor([0])\n",
      "tensor([9])\n",
      "tensor([5])\n",
      "tensor([7])\n",
      "tensor([9])\n",
      "tensor([8])\n",
      "tensor([5])\n",
      "tensor([7])\n"
     ]
    },
    {
     "data": {
      "image/png": "[encoded data removed]",
      "text/plain": [
       "<Figure size 432x288 with 3 Axes>"
      ]
     },
     "metadata": {},
     "output_type": "display_data"
    }
   ],
   "source": [
    "net = CIFAR10()\n",
    "net.cuda()\n",
    "net = torch.nn.DataParallel(net, device_ids=[0])\n",
    "# print(net)\n",
    "load_model(net,'cifar10_gpu.pt')\n",
    "net.eval()\n",
    "model = net.module if torch.cuda.is_available() else net\n",
    "# model = model.cpu()\n",
    "train_loader, test_loader, train_dataset, test_dataset = load_cifar10_data()\n",
    "\n",
    "X0, Y0 = None, None\n",
    "X1, Y1 = None, None\n",
    "X2, Y2 = None, None\n",
    "for i, (xi,yi) in enumerate(test_loader):\n",
    "    print(yi)\n",
    "    if i==2:\n",
    "        X0, Y0 = xi, yi\n",
    "    if i==5:\n",
    "        X1, Y1 = xi, yi\n",
    "    if i==16:\n",
    "        X2, Y2 = xi, yi\n",
    "    if i==17:\n",
    "        break\n",
    "amodel = PytorchModel(model, bounds=[0,1], num_classes=10)\n",
    "\n",
    "def plot_adv(X, adv):\n",
    "    plt.subplot(1,2,1)\n",
    "    plt.imshow(np.transpose(X[0].numpy(), (1, 2, 0)))\n",
    "    plt.subplot(1,2,2)\n",
    "    plt.imshow(np.transpose(adv.cpu()[0].numpy(), (1, 2, 0)))\n",
    "    plt.show()\n",
    "\n",
    "# Plot the sample images\n",
    "plt.subplot(1,3,1)\n",
    "plt.imshow(np.transpose(X0[0].numpy(), (1, 2, 0)))\n",
    "plt.subplot(1,3,2)\n",
    "plt.imshow(np.transpose(X1[0].numpy(), (1, 2, 0)))\n",
    "plt.subplot(1,3,3)\n",
    "plt.imshow(np.transpose(X2[0].numpy(), (1, 2, 0)))\n",
    "plt.show()"
   ]
  },
  {
   "cell_type": "markdown",
   "metadata": {},
   "source": [
    "### Untargeted"
   ]
  },
  {
   "cell_type": "code",
   "execution_count": 29,
   "metadata": {
    "scrolled": true
   },
   "outputs": [
    {
     "name": "stderr",
     "output_type": "stream",
     "text": [
      "/home/simranjit/blackbox/attackbox-master/models.py:26: UserWarning: volatile was removed and now has no effect. Use `with torch.no_grad():` instead.\n",
      "  image = Variable(image, volatile=True) # ?? not supported by latest pytorch\n"
     ]
    },
    {
     "name": "stdout",
     "output_type": "stream",
     "text": [
      "Searching for the initial direction on 100 random directions: \n",
      "--------> Found distortion 2.1361\n",
      "--------> Found distortion 0.5923\n",
      "--------> Found distortion 0.2809\n",
      "--------> Found distortion 0.2777\n",
      "--------> Found distortion 0.1827\n",
      "--------> Found distortion 0.1551\n",
      "==========> Found best distortion 0.1551 in 0.5155 seconds using 292 queries\n",
      "Iteration  10 distortion 0.0457 num_queries 1142\n",
      "Iteration  20 distortion 0.0293 num_queries 2190\n",
      "Iteration  30 distortion 0.0280 num_queries 2880\n",
      "Iteration  40 distortion 0.0260 num_queries 3629\n",
      "Warning: not moving, g2 0.026038 gtheta 0.026038 beta is 0.010000\n",
      "Iteration  50 distortion 0.0254 num_queries 4777\n",
      "Iteration  60 distortion 0.0246 num_queries 5932\n",
      "Iteration  70 distortion 0.0231 num_queries 7008\n",
      "Warning: not moving, g2 0.023113 gtheta 0.023113 beta is 0.001000\n",
      "Iteration  80 distortion 0.0225 num_queries 8753\n",
      "Iteration  90 distortion 0.0221 num_queries 10413\n",
      "Iteration 100 distortion 0.0219 num_queries 11929\n",
      "Iteration 110 distortion 0.0217 num_queries 13515\n",
      "Iteration 120 distortion 0.0217 num_queries 15015\n",
      "Iteration 130 distortion 0.0214 num_queries 16790\n",
      "Iteration 140 distortion 0.0212 num_queries 18365\n",
      "Iteration 150 distortion 0.0208 num_queries 20029\n",
      "Iteration 160 distortion 0.0206 num_queries 21567\n",
      "Iteration 170 distortion 0.0203 num_queries 23016\n",
      "Warning: not moving, g2 0.020309 gtheta 0.020309 beta is 0.000100\n",
      "Iteration 180 distortion 0.0202 num_queries 25090\n",
      "Iteration 190 distortion 0.0200 num_queries 27290\n",
      "Iteration 200 distortion 0.0198 num_queries 29227\n",
      "Iteration 210 distortion 0.0197 num_queries 31387\n",
      "Iteration 220 distortion 0.0197 num_queries 33354\n",
      "Iteration 230 distortion 0.0197 num_queries 35274\n",
      "Iteration 240 distortion 0.0197 num_queries 37314\n",
      "Iteration 250 distortion 0.0196 num_queries 39189\n",
      "Iteration 260 distortion 0.0195 num_queries 41248\n",
      "Iteration 270 distortion 0.0194 num_queries 43110\n",
      "Iteration 280 distortion 0.0193 num_queries 45062\n",
      "Iteration 290 distortion 0.0192 num_queries 47137\n",
      "Iteration 300 distortion 0.0191 num_queries 49224\n",
      "Iteration 310 distortion 0.0191 num_queries 51194\n",
      "Iteration 320 distortion 0.0190 num_queries 53174\n",
      "Iteration 330 distortion 0.0190 num_queries 55109\n",
      "Iteration 340 distortion 0.0189 num_queries 57076\n",
      "Iteration 350 distortion 0.0188 num_queries 59056\n",
      "Iteration 360 distortion 0.0188 num_queries 61053\n",
      "Iteration 370 distortion 0.0188 num_queries 63108\n",
      "Iteration 380 distortion 0.0187 num_queries 65088\n",
      "Iteration 390 distortion 0.0187 num_queries 67053\n",
      "Iteration 400 distortion 0.0186 num_queries 68988\n",
      "Iteration 410 distortion 0.0186 num_queries 70848\n",
      "Iteration 420 distortion 0.0186 num_queries 72753\n",
      "Iteration 430 distortion 0.0186 num_queries 74703\n",
      "Iteration 440 distortion 0.0186 num_queries 76533\n",
      "Iteration 450 distortion 0.0185 num_queries 78498\n",
      "\n",
      "Adversarial Example Found Successfully: distortion 0.0185 target 1 queries 80365 \n",
      "Time: 144.6613 seconds\n"
     ]
    },
    {
     "data": {
      "image/png": "[encoded data removed]",
      "text/plain": [
       "<Figure size 432x288 with 2 Axes>"
      ]
     },
     "metadata": {},
     "output_type": "display_data"
    }
   ],
   "source": [
    "attack = OPT_attack_lf(amodel)\n",
    "adv, dist = attack(X0.cuda(), Y0.cuda(), seed=11)\n",
    "plot_adv(X0, adv)"
   ]
  },
  {
   "cell_type": "code",
   "execution_count": 30,
   "metadata": {
    "scrolled": true
   },
   "outputs": [
    {
     "name": "stderr",
     "output_type": "stream",
     "text": [
      "/home/simranjit/blackbox/attackbox-master/models.py:26: UserWarning: volatile was removed and now has no effect. Use `with torch.no_grad():` instead.\n",
      "  image = Variable(image, volatile=True) # ?? not supported by latest pytorch\n"
     ]
    },
    {
     "name": "stdout",
     "output_type": "stream",
     "text": [
      "Searching for the initial direction on 100 random directions: \n",
      "--------> Found distortion 2.1361\n",
      "--------> Found distortion 0.5923\n",
      "--------> Found distortion 0.2809\n",
      "--------> Found distortion 0.2777\n",
      "--------> Found distortion 0.1827\n",
      "--------> Found distortion 0.1551\n",
      "==========> Found best distortion 0.1551 in 0.5028 seconds using 292 queries\n",
      "Iteration   1 distortion 0.0480 num_queries 773\n",
      "Iteration   6 distortion 0.0269 num_queries 2168\n",
      "Iteration  11 distortion 0.0216 num_queries 3531\n",
      "Iteration  16 distortion 0.0190 num_queries 4839\n",
      "Warning: not moving, beta is 0.001\n",
      "Iteration  21 distortion 0.0185 num_queries 6319\n",
      "Warning: not moving, beta is 0.0001\n",
      "Iteration  26 distortion 0.0178 num_queries 7716\n",
      "Iteration  31 distortion 0.0173 num_queries 8941\n",
      "Iteration  36 distortion 0.0166 num_queries 10426\n",
      "Iteration  41 distortion 0.0163 num_queries 11734\n",
      "Warning: not moving, beta is 1e-05\n",
      "Iteration  46 distortion 0.0160 num_queries 13368\n",
      "Iteration  51 distortion 0.0159 num_queries 14771\n",
      "Iteration  56 distortion 0.0159 num_queries 16221\n",
      "Iteration  61 distortion 0.0157 num_queries 17941\n",
      "Iteration  66 distortion 0.0157 num_queries 19193\n",
      "Iteration  71 distortion 0.0155 num_queries 20792\n",
      "Iteration  76 distortion 0.0154 num_queries 21990\n",
      "Iteration  81 distortion 0.0154 num_queries 23188\n",
      "Iteration  86 distortion 0.0151 num_queries 24530\n",
      "Iteration  91 distortion 0.0151 num_queries 26275\n",
      "Iteration  96 distortion 0.0150 num_queries 27653\n",
      "Iteration 101 distortion 0.0149 num_queries 29106\n",
      "Warning: not moving, beta is 1.0000000000000002e-06\n",
      "Iteration 106 distortion 0.0149 num_queries 30772\n",
      "Warning: not moving, beta is 1.0000000000000002e-07\n",
      "Iteration 111 distortion 0.0149 num_queries 32384\n",
      "Warning: not moving, beta is 1.0000000000000004e-08\n",
      "Iteration 116 distortion 0.0149 num_queries 33960\n",
      "Warning: not moving, beta is 1.0000000000000005e-09\n",
      "Iteration 121 distortion 0.0149 num_queries 35554\n",
      "Warning: not moving, beta is 1.0000000000000006e-10\n",
      "Warning: not moving, beta is 1.0000000000000006e-11\n",
      "Iteration 126 distortion 0.0149 num_queries 37472\n",
      "Warning: not moving, beta is 1.0000000000000006e-12\n",
      "Warning: not moving, beta is 1.0000000000000007e-13\n",
      "Iteration 131 distortion 0.0149 num_queries 39336\n",
      "Warning: not moving, beta is 1.0000000000000008e-14\n",
      "Warning: not moving, beta is 1.0000000000000009e-15\n",
      "Warning: not moving, beta is 1.000000000000001e-16\n",
      "Iteration 136 distortion 0.0149 num_queries 41290\n",
      "Success: stopping threshold reached\n",
      "\n",
      "Adversarial Example Found Successfully: distortion 0.0149 target 1 queries 41290 LS queries 13798 \n",
      "Time: 75.8042 seconds\n"
     ]
    },
    {
     "data": {
      "image/png": "[encoded data removed]",
      "text/plain": [
       "<Figure size 432x288 with 2 Axes>"
      ]
     },
     "metadata": {},
     "output_type": "display_data"
    }
   ],
   "source": [
    "attack = OPT_attack_sign_SGD_lf(amodel)\n",
    "adv_sign, dist_sign = attack(X0.cuda(), Y0.cuda(), seed=11)\n",
    "plot_adv(X0, adv_sign)"
   ]
  },
  {
   "cell_type": "markdown",
   "metadata": {},
   "source": [
    "### Targeted"
   ]
  },
  {
   "cell_type": "code",
   "execution_count": 31,
   "metadata": {
    "scrolled": true
   },
   "outputs": [
    {
     "name": "stdout",
     "output_type": "stream",
     "text": [
      "Targeted attack - Source: 8 and Target: 4 Seed: 10\n",
      "Searching for the initial direction on 100 samples: \n",
      "--------> Found distortion 0.4366\n",
      "--------> Found distortion 0.3898\n",
      "--------> Found distortion 0.3020\n"
     ]
    },
    {
     "name": "stderr",
     "output_type": "stream",
     "text": [
      "/home/simranjit/blackbox/attackbox-master/models.py:26: UserWarning: volatile was removed and now has no effect. Use `with torch.no_grad():` instead.\n",
      "  image = Variable(image, volatile=True) # ?? not supported by latest pytorch\n"
     ]
    },
    {
     "name": "stdout",
     "output_type": "stream",
     "text": [
      "--------> Found distortion 0.2781\n",
      "--------> Found distortion 0.2603\n",
      "--------> Found distortion 0.2519\n",
      "==========> Found best distortion 0.2519 in 1.9375 seconds using 1190 queries\n",
      "Iteration  10 distortion 0.1334 num_queries 6107\n",
      "Iteration  20 distortion 0.1053 num_queries 9350\n",
      "Iteration  30 distortion 0.0906 num_queries 11742\n",
      "Iteration  40 distortion 0.0877 num_queries 14102\n",
      "Iteration  50 distortion 0.0833 num_queries 16361\n",
      "Iteration  60 distortion 0.0803 num_queries 18631\n",
      "Iteration  70 distortion 0.0739 num_queries 21039\n",
      "Iteration  80 distortion 0.0721 num_queries 23333\n",
      "Iteration  90 distortion 0.0709 num_queries 25661\n",
      "Iteration 100 distortion 0.0699 num_queries 27983\n",
      "Iteration 110 distortion 0.0688 num_queries 30356\n",
      "Iteration 120 distortion 0.0682 num_queries 32682\n",
      "Iteration 130 distortion 0.0666 num_queries 34936\n",
      "Warning: not moving, g2 0.066266 gtheta 0.066266 beta is 0.001000\n",
      "Iteration 140 distortion 0.0663 num_queries 37465\n",
      "Iteration 150 distortion 0.0658 num_queries 40496\n",
      "Iteration 160 distortion 0.0652 num_queries 43503\n",
      "Iteration 170 distortion 0.0645 num_queries 46714\n",
      "Iteration 180 distortion 0.0642 num_queries 49652\n",
      "Iteration 190 distortion 0.0640 num_queries 52707\n",
      "Iteration 200 distortion 0.0638 num_queries 55792\n",
      "Iteration 210 distortion 0.0632 num_queries 58803\n",
      "Iteration 220 distortion 0.0630 num_queries 61741\n",
      "Iteration 230 distortion 0.0629 num_queries 64707\n",
      "Iteration 240 distortion 0.0627 num_queries 67736\n",
      "Iteration 250 distortion 0.0625 num_queries 70717\n",
      "Iteration 260 distortion 0.0623 num_queries 73668\n",
      "Iteration 270 distortion 0.0623 num_queries 76775\n",
      "Iteration 280 distortion 0.0621 num_queries 79791\n",
      "\n",
      "Adversarial Example Found Successfully: distortion 0.0621 target 4 queries 81280 \n",
      "Time: 143.5173 seconds\n"
     ]
    },
    {
     "data": {
      "image/png": "[encoded data removed]",
      "text/plain": [
       "<Figure size 432x288 with 2 Axes>"
      ]
     },
     "metadata": {},
     "output_type": "display_data"
    }
   ],
   "source": [
    "attack = OPT_attack_lf(amodel, train_dataset=train_dataset)\n",
    "target = 4\n",
    "adv, dist = attack(X0.cuda(), Y0.cuda(), target=target*torch.ones(1, dtype=torch.long).cuda(), seed=10)\n",
    "plot_adv(X0, adv)"
   ]
  },
  {
   "cell_type": "code",
   "execution_count": 32,
   "metadata": {},
   "outputs": [
    {
     "name": "stdout",
     "output_type": "stream",
     "text": [
      "Targeted attack - Source: 8 and Target: 4 Seed: 10\n",
      "Searching for the initial direction on 100 samples: \n",
      "--------> Found distortion 0.4366\n",
      "--------> Found distortion 0.3898\n",
      "--------> Found distortion 0.3020\n"
     ]
    },
    {
     "name": "stderr",
     "output_type": "stream",
     "text": [
      "/home/simranjit/blackbox/attackbox-master/models.py:26: UserWarning: volatile was removed and now has no effect. Use `with torch.no_grad():` instead.\n",
      "  image = Variable(image, volatile=True) # ?? not supported by latest pytorch\n"
     ]
    },
    {
     "name": "stdout",
     "output_type": "stream",
     "text": [
      "--------> Found distortion 0.2781\n",
      "--------> Found distortion 0.2603\n",
      "--------> Found distortion 0.2519\n",
      "==========> Found best distortion 0.2519 in 2.0450 seconds using 1190 queries\n",
      "Iteration   1 distortion 0.1826 num_queries 1555\n",
      "Iteration   6 distortion 0.1002 num_queries 3481\n",
      "Iteration  11 distortion 0.0793 num_queries 4740\n",
      "Iteration  16 distortion 0.0677 num_queries 5923\n",
      "Iteration  21 distortion 0.0640 num_queries 7152\n",
      "Iteration  26 distortion 0.0603 num_queries 8384\n",
      "Iteration  31 distortion 0.0574 num_queries 9494\n",
      "Iteration  36 distortion 0.0554 num_queries 10645\n",
      "Iteration  41 distortion 0.0534 num_queries 11825\n",
      "Iteration  46 distortion 0.0525 num_queries 13021\n",
      "Iteration  51 distortion 0.0515 num_queries 14155\n",
      "Iteration  56 distortion 0.0504 num_queries 15316\n",
      "Iteration  61 distortion 0.0499 num_queries 16487\n",
      "Iteration  66 distortion 0.0492 num_queries 17675\n",
      "Iteration  71 distortion 0.0490 num_queries 18774\n",
      "Iteration  76 distortion 0.0489 num_queries 19882\n",
      "Iteration  81 distortion 0.0484 num_queries 21085\n",
      "Iteration  86 distortion 0.0481 num_queries 22215\n",
      "Iteration  91 distortion 0.0480 num_queries 23323\n",
      "Iteration  96 distortion 0.0480 num_queries 24449\n",
      "Iteration 101 distortion 0.0478 num_queries 25593\n",
      "Iteration 106 distortion 0.0474 num_queries 26716\n",
      "Iteration 111 distortion 0.0473 num_queries 27826\n",
      "Iteration 116 distortion 0.0471 num_queries 28972\n",
      "Iteration 121 distortion 0.0470 num_queries 30080\n",
      "Iteration 126 distortion 0.0470 num_queries 31224\n",
      "Iteration 131 distortion 0.0470 num_queries 32332\n",
      "Warning: not moving\n",
      "Success: stopping threshold reached\n",
      "\n",
      "Adversarial Example Found Successfully: distortion 0.0470 target 4 queries 33130 LS queries 5140 \n",
      "Time: 60.0268 seconds\n"
     ]
    },
    {
     "data": {
      "image/png": "[encoded data removed]",
      "text/plain": [
       "<Figure size 432x288 with 2 Axes>"
      ]
     },
     "metadata": {},
     "output_type": "display_data"
    }
   ],
   "source": [
    "attack = OPT_attack_sign_SGD_lf(amodel, train_dataset=train_dataset)\n",
    "target = 4\n",
    "adv_sign, dist_sign = attack(X0.cuda(), Y0.cuda(), target=target*torch.ones(1, dtype=torch.long).cuda(), seed=10)\n",
    "plot_adv(X0, adv_sign)"
   ]
  },
  {
   "cell_type": "code",
   "execution_count": null,
   "metadata": {},
   "outputs": [],
   "source": []
  }
 ],
 "metadata": {
  "kernelspec": {
   "display_name": "Python 3",
   "language": "python",
   "name": "python3"
  },
  "language_info": {
   "codemirror_mode": {
    "name": "ipython",
    "version": 3
   },
   "file_extension": ".py",
   "mimetype": "text/x-python",
   "name": "python",
   "nbconvert_exporter": "python",
   "pygments_lexer": "ipython3",
   "version": "3.6.8"
  }
 },
 "nbformat": 4,
 "nbformat_minor": 2
}
